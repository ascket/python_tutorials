{
 "cells": [
  {
   "cell_type": "code",
   "execution_count": 2,
   "metadata": {
    "code_folding": []
   },
   "outputs": [
    {
     "name": "stdout",
     "output_type": "stream",
     "text": [
      "45\n"
     ]
    }
   ],
   "source": [
    "def _reduce(fn, lister):\n",
    "    start = lister[0]\n",
    "    for x in lister[1:]:\n",
    "        start = fn(start, x)\n",
    "    return start\n",
    "\n",
    "l = range(1, 10)\n",
    "\n",
    "print(_reduce(lambda x, y: x + y, l))"
   ]
  },
  {
   "cell_type": "markdown",
   "metadata": {},
   "source": [
    "### Тоже самое можем сделать через reduce"
   ]
  },
  {
   "cell_type": "code",
   "execution_count": 3,
   "metadata": {},
   "outputs": [
    {
     "name": "stdout",
     "output_type": "stream",
     "text": [
      "45\n"
     ]
    }
   ],
   "source": [
    "from functools import reduce\n",
    "print(reduce(lambda x, y: x + y, l))"
   ]
  },
  {
   "cell_type": "code",
   "execution_count": 4,
   "metadata": {},
   "outputs": [
    {
     "name": "stdout",
     "output_type": "stream",
     "text": [
      "145\n"
     ]
    }
   ],
   "source": [
    "def _reduce2(fn, sequence, initialiser):\n",
    "    start = initialiser\n",
    "    for x in sequence:\n",
    "        start = fn(start, x)\n",
    "    return start\n",
    "\n",
    "print(_reduce2(lambda x, y: x + y, range(1, 10), 100))"
   ]
  },
  {
   "cell_type": "code",
   "execution_count": 5,
   "metadata": {},
   "outputs": [
    {
     "name": "stdout",
     "output_type": "stream",
     "text": [
      "145\n"
     ]
    }
   ],
   "source": [
    "print(reduce(lambda x, y: x + y, range(1, 10), 100))"
   ]
  },
  {
   "cell_type": "markdown",
   "metadata": {},
   "source": [
    " ### partial"
   ]
  },
  {
   "cell_type": "code",
   "execution_count": 10,
   "metadata": {},
   "outputs": [
    {
     "name": "stdout",
     "output_type": "stream",
     "text": [
      "10 100 220\n",
      "10 440 669\n"
     ]
    }
   ],
   "source": [
    "def my_func(a, b, c):\n",
    "    print(a, b, c)\n",
    "\n",
    "def f(x, y):\n",
    "    return my_func(10, x, y)\n",
    "\n",
    "f(100, 220)\n",
    "f2 = lambda x, y: my_func(10, x, y)\n",
    "f2(440, 669)"
   ]
  },
  {
   "cell_type": "markdown",
   "metadata": {},
   "source": [
    "### Применим partial"
   ]
  },
  {
   "cell_type": "code",
   "execution_count": 12,
   "metadata": {},
   "outputs": [
    {
     "name": "stdout",
     "output_type": "stream",
     "text": [
      "10 22 22\n",
      "45 86 234\n"
     ]
    }
   ],
   "source": [
    "from functools import partial\n",
    "\n",
    "def my_func(a, b, c):\n",
    "    print(a, b, c)\n",
    "\n",
    "f1 = partial(my_func, 10)\n",
    "f1(22, 22)\n",
    "\n",
    "f2 = partial(my_func, 45, 86)\n",
    "f2(234)"
   ]
  },
  {
   "cell_type": "markdown",
   "metadata": {},
   "source": [
    "### Усложним"
   ]
  },
  {
   "cell_type": "code",
   "execution_count": 15,
   "metadata": {},
   "outputs": [
    {
     "name": "stdout",
     "output_type": "stream",
     "text": [
      "10 20 (100, 200) a b {'k3': 1000, 'k4': 20000}\n",
      "10 20 (100, 200) a b {'k3': 1000, 'k4': 20000}\n",
      "10 20 (100, 200) a b {'k3': 1000, 'k4': 20000}\n"
     ]
    }
   ],
   "source": [
    "def my_func(a, b, *args, k1, k2, **kwargs):\n",
    "    print(a, b, args, k1, k2, kwargs)\n",
    "\n",
    "\n",
    "my_func(10, 20, 100, 200, k1 = \"a\", k2 = \"b\", k3 = 1000, k4 = 20000)\n",
    "\n",
    "def f2(x, *args, kw, **kwargs):\n",
    "    return my_func(10, x, *args, k1 = \"a\", k2 = kw, **kwargs)\n",
    "\n",
    "f2(20, 100, 200, kw = \"b\", k3 = 1000, k4 = 20000)\n",
    "\n",
    "from functools import partial\n",
    "\n",
    "f = partial(my_func, 10, k1 = \"a\")\n",
    "f(20, 100, 200, k2 = \"b\", k3 = 1000, k4 = 20000)"
   ]
  },
  {
   "cell_type": "markdown",
   "metadata": {},
   "source": [
    "### Можем использовать так"
   ]
  },
  {
   "cell_type": "code",
   "execution_count": 19,
   "metadata": {},
   "outputs": [
    {
     "name": "stdout",
     "output_type": "stream",
     "text": [
      "100\n",
      "125\n",
      "100\n"
     ]
    }
   ],
   "source": [
    "from functools import partial\n",
    "\n",
    "def pow(base, exponent):\n",
    "    return base ** exponent\n",
    "\n",
    "sq = partial(pow, exponent = 2)\n",
    "print(sq(10))\n",
    "\n",
    "cu = partial(pow, exponent = 3)\n",
    "print(cu(base = 5)) #можем указать ключевой параметр\n",
    "print(cu(exponent = 2, base = 10)) #или так"
   ]
  }
 ],
 "metadata": {
  "kernelspec": {
   "display_name": "Python 3",
   "language": "python",
   "name": "python3"
  },
  "language_info": {
   "codemirror_mode": {
    "name": "ipython",
    "version": 3
   },
   "file_extension": ".py",
   "mimetype": "text/x-python",
   "name": "python",
   "nbconvert_exporter": "python",
   "pygments_lexer": "ipython3",
   "version": "3.8.2"
  }
 },
 "nbformat": 4,
 "nbformat_minor": 4
}
