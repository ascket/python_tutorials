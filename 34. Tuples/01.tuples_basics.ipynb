{
 "cells": [
  {
   "cell_type": "code",
   "execution_count": 6,
   "metadata": {},
   "outputs": [
    {
     "name": "stdout",
     "output_type": "stream",
     "text": [
      "(1, 2, 3)\n",
      "(1, 3, 4)\n",
      "(1,) <class 'tuple'>\n",
      "(1,) <class 'tuple'>\n"
     ]
    }
   ],
   "source": [
    "# создание кортежа\n",
    "a = 1, 2, 3\n",
    "b = (1, 3, 4)\n",
    "c = 1,\n",
    "d = (1, )\n",
    "print(a)\n",
    "print(b)\n",
    "print(c, type(c))\n",
    "print(d, type(d))"
   ]
  },
  {
   "cell_type": "code",
   "execution_count": 7,
   "metadata": {},
   "outputs": [
    {
     "name": "stdout",
     "output_type": "stream",
     "text": [
      "(1, 3, 4, 8, 9, 10)\n"
     ]
    }
   ],
   "source": [
    "a = (1, 3, 4)\n",
    "b = (8, 9, 10)\n",
    "print(a + b)"
   ]
  },
  {
   "cell_type": "markdown",
   "metadata": {},
   "source": [
    "<b>Кортеж - неизменяемый тип данных, но если внутри кортежа, например, списки,<br>\n",
    "то эти списки можно изменять</b>"
   ]
  },
  {
   "cell_type": "code",
   "execution_count": 11,
   "metadata": {},
   "outputs": [
    {
     "name": "stdout",
     "output_type": "stream",
     "text": [
      "TupleSimple (a = 10, b = 20)\n"
     ]
    }
   ],
   "source": [
    "class TupleSimple():\n",
    "    def __init__(self, a, b):\n",
    "        self.a = a\n",
    "        self.b = b\n",
    "    \n",
    "    def __repr__(self):\n",
    "        return f'{self.__class__.__name__} (a = {self.a}, b = {self.b})'\n",
    "\n",
    "pt = TupleSimple(10, 20)\n",
    "print(pt)"
   ]
  },
  {
   "cell_type": "code",
   "execution_count": 15,
   "metadata": {},
   "outputs": [
    {
     "name": "stdout",
     "output_type": "stream",
     "text": [
      "(TupleSimple (a = 100, b = 30), TupleSimple (a = 30, b = 40))\n"
     ]
    }
   ],
   "source": [
    "obj = TupleSimple(20, 30), TupleSimple(30, 40)\n",
    "obj[0].a = 100 # присвоим а другое значение\n",
    "print(obj)"
   ]
  },
  {
   "cell_type": "code",
   "execution_count": 19,
   "metadata": {},
   "outputs": [
    {
     "name": "stdout",
     "output_type": "stream",
     "text": [
      "38280000\n",
      "38280000\n"
     ]
    }
   ],
   "source": [
    "london = \"London\", \"UK\", 8_780_000\n",
    "new_york = \"New York\", \"USA\", 8_500_000\n",
    "beijing = \"Beijing\", \"China\", 21_000_000\n",
    "\n",
    "cities = [london, new_york, beijing]\n",
    "\n",
    "# Общее кол-во жителей можем найти, например так:\n",
    "total = 0\n",
    "for x in cities:\n",
    "    total += x[2]\n",
    "print(total)\n",
    "\n",
    "# а можем сразу так\n",
    "print(sum(x[2] for x in cities))"
   ]
  },
  {
   "cell_type": "code",
   "execution_count": 24,
   "metadata": {},
   "outputs": [
    {
     "name": "stdout",
     "output_type": "stream",
     "text": [
      "Jira 24\n",
      "968\n",
      "[64, 634, 976, 'London']\n"
     ]
    }
   ],
   "source": [
    "lister = \"Jira\", 24, 64, 634, 976, \"London\", 968\n",
    "a, b, *_, c = lister\n",
    "print(a, b)\n",
    "print(c)\n",
    "print(_)  # забирает в list"
   ]
  },
  {
   "cell_type": "markdown",
   "metadata": {},
   "source": [
    "### Именованные кортежи"
   ]
  },
  {
   "cell_type": "code",
   "execution_count": 29,
   "metadata": {},
   "outputs": [
    {
     "name": "stdout",
     "output_type": "stream",
     "text": [
      "Point3D(a=10, b=20, c=40)\n"
     ]
    }
   ],
   "source": [
    "class Point3D():\n",
    "    def __init__(self, a, b, c):\n",
    "        self.a = a\n",
    "        self.b = b\n",
    "        self.c = c\n",
    "    \n",
    "    def __repr__(self):\n",
    "        return f'{self.__class__.__name__}(a={self.a}, b={self.b}, c={self.c})'\n",
    "\n",
    "my_class = Point3D(10, 20, 40)\n",
    "print(my_class)"
   ]
  },
  {
   "cell_type": "markdown",
   "metadata": {},
   "source": [
    "<b>Сделаем тоже самое с помощью именованного кортежа</b>"
   ]
  },
  {
   "cell_type": "code",
   "execution_count": 31,
   "metadata": {},
   "outputs": [
    {
     "name": "stdout",
     "output_type": "stream",
     "text": [
      "Point2D(x=10, y=20)\n",
      "10\n"
     ]
    }
   ],
   "source": [
    "from collections import namedtuple\n",
    "Point2D = namedtuple(\"Point2D\", [\"x\", \"y\"])\n",
    "pt1 = Point2D(10, 20)\n",
    "print(pt1)\n",
    "print(pt1.x)"
   ]
  },
  {
   "cell_type": "code",
   "execution_count": null,
   "metadata": {},
   "outputs": [],
   "source": []
  },
  {
   "cell_type": "code",
   "execution_count": null,
   "metadata": {},
   "outputs": [],
   "source": []
  }
 ],
 "metadata": {
  "kernelspec": {
   "display_name": "Python 3",
   "language": "python",
   "name": "python3"
  },
  "language_info": {
   "codemirror_mode": {
    "name": "ipython",
    "version": 3
   },
   "file_extension": ".py",
   "mimetype": "text/x-python",
   "name": "python",
   "nbconvert_exporter": "python",
   "pygments_lexer": "ipython3",
   "version": "3.7.6"
  }
 },
 "nbformat": 4,
 "nbformat_minor": 4
}
