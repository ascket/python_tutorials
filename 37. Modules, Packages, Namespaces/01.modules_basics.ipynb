{
 "cells": [
  {
   "cell_type": "code",
   "execution_count": 1,
   "metadata": {},
   "outputs": [],
   "source": [
    "def func():\n",
    "    a = 10\n",
    "    return a"
   ]
  },
  {
   "cell_type": "code",
   "execution_count": 5,
   "metadata": {},
   "outputs": [
    {
     "data": {
      "text/plain": [
       "<function __main__.func()>"
      ]
     },
     "execution_count": 5,
     "metadata": {},
     "output_type": "execute_result"
    }
   ],
   "source": [
    "func"
   ]
  },
  {
   "cell_type": "code",
   "execution_count": null,
   "metadata": {},
   "outputs": [],
   "source": [
    "globals() # словарь с глобальным пространством имён\n",
    "locals() # тоже что и globals()\n",
    "globals()[\"func\"]  # выводит инфу о функции"
   ]
  },
  {
   "cell_type": "code",
   "execution_count": 9,
   "metadata": {},
   "outputs": [
    {
     "data": {
      "text/plain": [
       "True"
      ]
     },
     "execution_count": 9,
     "metadata": {},
     "output_type": "execute_result"
    }
   ],
   "source": [
    "locals() is globals()"
   ]
  },
  {
   "cell_type": "code",
   "execution_count": 13,
   "metadata": {},
   "outputs": [
    {
     "name": "stdout",
     "output_type": "stream",
     "text": [
      "{'a': 10, 'b': 10}\n"
     ]
    }
   ],
   "source": [
    "def myFunc():\n",
    "    a = 10\n",
    "    b = 10\n",
    "    print(locals())\n",
    "\n",
    "myFunc()"
   ]
  },
  {
   "cell_type": "markdown",
   "metadata": {},
   "source": [
    "### Как работают модули\n",
    "Любой модуль это объект. Импортированный модуль помещается в\n",
    "глобальное пространство имён (globals()), а это словарь. Для любого модуля\n",
    "можем вызвать словать со всеми его атрибутами (его пространством имём), напр. math.\\_\\_dict__\n",
    "Модули загружаются из файлов"
   ]
  },
  {
   "cell_type": "code",
   "execution_count": 14,
   "metadata": {},
   "outputs": [
    {
     "name": "stdout",
     "output_type": "stream",
     "text": [
      "<module 'math' (built-in)>\n"
     ]
    }
   ],
   "source": [
    "import math\n",
    "print(math)"
   ]
  },
  {
   "cell_type": "code",
   "execution_count": 15,
   "metadata": {},
   "outputs": [
    {
     "name": "stdout",
     "output_type": "stream",
     "text": [
      "<module 'fractions' from 'C:\\\\Users\\\\Alexey\\\\anaconda3\\\\lib\\\\fractions.py'>\n"
     ]
    }
   ],
   "source": [
    "import fractions\n",
    "print(fractions)"
   ]
  },
  {
   "cell_type": "code",
   "execution_count": 22,
   "metadata": {},
   "outputs": [
    {
     "name": "stdout",
     "output_type": "stream",
     "text": [
      "1.4142135623730951\n",
      "junk is math: True\n",
      "1.4142135623730951\n"
     ]
    }
   ],
   "source": [
    "junk = math\n",
    "print(junk.sqrt(2))\n",
    "print(f\"junk is math: {junk is math}\")\n",
    "mod_math = globals()[\"math\"]\n",
    "print(mod_math.sqrt(2))"
   ]
  },
  {
   "cell_type": "code",
   "execution_count": 23,
   "metadata": {},
   "outputs": [
    {
     "data": {
      "text/plain": [
       "dict"
      ]
     },
     "execution_count": 23,
     "metadata": {},
     "output_type": "execute_result"
    }
   ],
   "source": [
    "type(globals())"
   ]
  },
  {
   "cell_type": "code",
   "execution_count": 27,
   "metadata": {},
   "outputs": [
    {
     "name": "stdout",
     "output_type": "stream",
     "text": [
      "<module 'math' (built-in)>\n"
     ]
    }
   ],
   "source": [
    "\"\"\"sys.module - это словарь со всеми установленными модулями\"\"\"\n",
    "import sys\n",
    "print(sys.modules[\"math\"])"
   ]
  },
  {
   "cell_type": "code",
   "execution_count": null,
   "metadata": {},
   "outputs": [],
   "source": [
    "math.__dict__ # словарь со всеми атрибутами модуля math."
   ]
  },
  {
   "cell_type": "code",
   "execution_count": 30,
   "metadata": {},
   "outputs": [
    {
     "name": "stdout",
     "output_type": "stream",
     "text": [
      "<built-in function sqrt>\n",
      "1.4142135623730951\n"
     ]
    }
   ],
   "source": [
    "\"\"\"можем сделать так\"\"\"\n",
    "f = math.__dict__[\"sqrt\"]\n",
    "print(f)\n",
    "print(f(2))"
   ]
  },
  {
   "cell_type": "code",
   "execution_count": 32,
   "metadata": {},
   "outputs": [
    {
     "name": "stdout",
     "output_type": "stream",
     "text": [
      "<module 'fractions' from 'C:\\\\Users\\\\Alexey\\\\anaconda3\\\\lib\\\\fractions.py'>\n",
      "['Decimal', 'Fraction', '_PyHASH_INF', '_PyHASH_MODULUS', '_RATIONAL_FORMAT', '__all__', '__builtins__', '__cached__', '__doc__', '__file__', '__loader__', '__name__', '__package__', '__spec__', '_gcd', 'gcd', 'math', 'numbers', 'operator', 're', 'sys']\n"
     ]
    }
   ],
   "source": [
    "import fractions\n",
    "print(sys.modules[\"fractions\"])\n",
    "print(dir(fractions))"
   ]
  },
  {
   "cell_type": "code",
   "execution_count": 35,
   "metadata": {},
   "outputs": [
    {
     "data": {
      "text/plain": [
       "'C:\\\\Users\\\\Alexey\\\\anaconda3\\\\lib\\\\fractions.py'"
      ]
     },
     "execution_count": 35,
     "metadata": {},
     "output_type": "execute_result"
    }
   ],
   "source": [
    "import types\n",
    "print(isinstance)"
   ]
  },
  {
   "cell_type": "markdown",
   "metadata": {},
   "source": [
    "### Создадим модуль"
   ]
  },
  {
   "cell_type": "code",
   "execution_count": 37,
   "metadata": {},
   "outputs": [
    {
     "data": {
      "text/plain": [
       "True"
      ]
     },
     "execution_count": 37,
     "metadata": {},
     "output_type": "execute_result"
    }
   ],
   "source": [
    "import types\n",
    "isinstance(fractions, types.ModuleType) # видим, что fractions - это модуль"
   ]
  },
  {
   "cell_type": "code",
   "execution_count": 40,
   "metadata": {},
   "outputs": [
    {
     "name": "stdout",
     "output_type": "stream",
     "text": [
      "True\n",
      "{'__name__': 'test', '__doc__': 'This is a module', '__package__': None, '__loader__': None, '__spec__': None}\n"
     ]
    }
   ],
   "source": [
    "\"\"\"сделаем модуль mod\"\"\"\n",
    "mod = types.ModuleType(\"test\", \"This is a module\")\n",
    "print(isinstance(mod, types.ModuleType)) # mod имеет тип Module\n",
    "print(mod.__dict__)"
   ]
  },
  {
   "cell_type": "code",
   "execution_count": 44,
   "metadata": {},
   "outputs": [
    {
     "name": "stdout",
     "output_type": "stream",
     "text": [
      "{'__name__': 'test', '__doc__': 'This is a module', '__package__': None, '__loader__': None, '__spec__': None, 'pi': 3.14, 'hello': <function <lambda> at 0x00000208CB4305E8>}\n"
     ]
    }
   ],
   "source": [
    "\"\"\"сделаем mod более функциональным\"\"\"\n",
    "mod.pi = 3.14\n",
    "mod.hello = lambda: \"Hello\"\n",
    "print(mod.__dict__)"
   ]
  },
  {
   "cell_type": "code",
   "execution_count": 47,
   "metadata": {},
   "outputs": [
    {
     "name": "stdout",
     "output_type": "stream",
     "text": [
      "Hello\n"
     ]
    }
   ],
   "source": [
    "print(mod.hello())"
   ]
  },
  {
   "cell_type": "code",
   "execution_count": 49,
   "metadata": {},
   "outputs": [
    {
     "name": "stdout",
     "output_type": "stream",
     "text": [
      "True\n"
     ]
    }
   ],
   "source": [
    "hello_func = mod.hello\n",
    "print(\"hello_func\" in globals())"
   ]
  },
  {
   "cell_type": "code",
   "execution_count": 50,
   "metadata": {},
   "outputs": [
    {
     "name": "stdout",
     "output_type": "stream",
     "text": [
      "Hello\n"
     ]
    }
   ],
   "source": [
    "print(hello())"
   ]
  },
  {
   "cell_type": "code",
   "execution_count": 54,
   "metadata": {},
   "outputs": [
    {
     "name": "stdout",
     "output_type": "stream",
     "text": [
      "Point(x=0, y=0)\n",
      "['Point', '__doc__', '__loader__', '__name__', '__package__', '__spec__', 'hello', 'pi']\n"
     ]
    }
   ],
   "source": [
    "from collections import namedtuple\n",
    "mod.Point = namedtuple(\"Point\", \"x y\")\n",
    "p1 = mod.Point(0, 0)\n",
    "p2 = mod.Point(1, 1)\n",
    "print(p1)\n",
    "print(dir(mod))"
   ]
  },
  {
   "cell_type": "code",
   "execution_count": 57,
   "metadata": {},
   "outputs": [
    {
     "name": "stdout",
     "output_type": "stream",
     "text": [
      "{'__name__': 'test', '__doc__': 'This is a module', '__package__': None, '__loader__': None, '__spec__': None, 'pi': 3.14, 'hello': <function <lambda> at 0x00000208CB4305E8>, 'Point': <class '__main__.Point'>}\n"
     ]
    },
    {
     "data": {
      "text/plain": [
       "Point(x=20, y=20)"
      ]
     },
     "execution_count": 57,
     "metadata": {},
     "output_type": "execute_result"
    }
   ],
   "source": [
    "print(mod.__dict__)\n",
    "pt = mod.__dict__[\"Point\"]\n",
    "pt(20, 20)"
   ]
  }
 ],
 "metadata": {
  "kernelspec": {
   "display_name": "Python 3",
   "language": "python",
   "name": "python3"
  },
  "language_info": {
   "codemirror_mode": {
    "name": "ipython",
    "version": 3
   },
   "file_extension": ".py",
   "mimetype": "text/x-python",
   "name": "python",
   "nbconvert_exporter": "python",
   "pygments_lexer": "ipython3",
   "version": "3.7.6"
  }
 },
 "nbformat": 4,
 "nbformat_minor": 4
}
