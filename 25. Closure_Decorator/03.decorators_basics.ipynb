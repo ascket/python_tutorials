{
 "cells": [
  {
   "cell_type": "markdown",
   "metadata": {},
   "source": [
    "## Делаем замыкание"
   ]
  },
  {
   "cell_type": "code",
   "execution_count": 5,
   "metadata": {},
   "outputs": [
    {
     "name": "stdout",
     "output_type": "stream",
     "text": [
      "Function add (id = 1985861477864) was called 1 times\n",
      "4\n"
     ]
    }
   ],
   "source": [
    "def counter(fn): #counter is decorator\n",
    "    count = 0\n",
    "\n",
    "    def inner(*args, **kwargs):\n",
    "        nonlocal count\n",
    "        count += 1\n",
    "        print(\"Function {0} (id = {1}) was called {2} times\".format(\n",
    "            fn.__name__, id(fn), count))\n",
    "        return fn(*args, **kwargs)\n",
    "    return inner\n",
    "\n",
    "\n",
    "def add(a: int, b: int = 0) -> int:\n",
    "    \"\"\"addition of two integers\"\"\"\n",
    "    return a + b\n",
    "\n",
    "\n",
    "add = counter(add)\n",
    "print(add(1, 3))"
   ]
  },
  {
   "cell_type": "code",
   "execution_count": 2,
   "metadata": {},
   "outputs": [],
   "source": [
    "def mult(a: int, b: int, c: int = 1, *, d):\n",
    "    \"\"\"multiplies four values\"\"\"\n",
    "    return a * b * c * d"
   ]
  },
  {
   "cell_type": "code",
   "execution_count": 3,
   "metadata": {},
   "outputs": [
    {
     "name": "stdout",
     "output_type": "stream",
     "text": [
      "Function mult (id = 1985861478152) was called 1 times\n",
      "72\n"
     ]
    }
   ],
   "source": [
    "mult = counter(mult) #mult is decorated function\n",
    "print(mult(1, 3, 4, d = 6))"
   ]
  },
  {
   "cell_type": "code",
   "execution_count": 4,
   "metadata": {},
   "outputs": [
    {
     "name": "stdout",
     "output_type": "stream",
     "text": [
      "Function mult (id = 1985861478152) was called 2 times\n"
     ]
    },
    {
     "data": {
      "text/plain": [
       "6"
      ]
     },
     "execution_count": 4,
     "metadata": {},
     "output_type": "execute_result"
    }
   ],
   "source": [
    "mult(1, 2, d = 3)"
   ]
  },
  {
   "cell_type": "markdown",
   "metadata": {},
   "source": [
    "## Применяем декоратор"
   ]
  },
  {
   "cell_type": "code",
   "execution_count": 16,
   "metadata": {},
   "outputs": [
    {
     "name": "stdout",
     "output_type": "stream",
     "text": [
      "Function my_func (id = 1985861480024) was called 1 times\n",
      "aaaaaaaaaa\n"
     ]
    }
   ],
   "source": [
    "@counter\n",
    "def my_func(s: str, i: int) -> str:\n",
    "    \"\"\"simply function\"\"\"\n",
    "    return s * i\n",
    "\n",
    "#my_func = counter(my_func) запись с декоратором равнозначна такой записи \n",
    "print(my_func(\"a\", 10))"
   ]
  },
  {
   "cell_type": "markdown",
   "metadata": {},
   "source": [
    "<b>Если посмотрим документацию по my_func, то увидим, что эта функция inner</b><br>\n",
    "<b>Для inner мы не писали никакой документации, но писали её для my_func</b>"
   ]
  },
  {
   "cell_type": "code",
   "execution_count": 19,
   "metadata": {},
   "outputs": [
    {
     "name": "stdout",
     "output_type": "stream",
     "text": [
      "Help on function inner in module __main__:\n",
      "\n",
      "inner(*args, **kwargs)\n",
      "\n",
      "None\n",
      "('count', 'fn')\n",
      "inner\n"
     ]
    }
   ],
   "source": [
    "print(help(my_func))\n",
    "print(my_func.__code__.co_freevars)\n",
    "print(my_func.__name__)"
   ]
  },
  {
   "cell_type": "markdown",
   "metadata": {},
   "source": [
    "<b>Чтобы выводить документацию по декорированной функции,</b><br>\n",
    "<b>воспользуемся декоратором wraps из модуля functools:</b>"
   ]
  },
  {
   "cell_type": "code",
   "execution_count": 25,
   "metadata": {},
   "outputs": [
    {
     "name": "stdout",
     "output_type": "stream",
     "text": [
      "Function add (id = 1985861478296) was called 1 times\n",
      "4\n"
     ]
    }
   ],
   "source": [
    "from functools import wraps\n",
    "\n",
    "def counter(fn):\n",
    "    count = 0\n",
    "    \n",
    "    @wraps(fn) # либо так (самый распространённый вариант)\n",
    "    def inner(*args, **kwargs):\n",
    "        nonlocal count\n",
    "        count += 1\n",
    "        print(\"Function {0} (id = {1}) was called {2} times\".format(\n",
    "            fn.__name__, id(fn), count))\n",
    "        return fn(*args, **kwargs)\n",
    "    #inner = wraps(fn)(inner) # либо так\n",
    "    return inner\n",
    "\n",
    "\n",
    "def add(a: int, b: int = 0) -> int:\n",
    "    \"\"\"addition of two integers\"\"\"\n",
    "    return a + b\n",
    "\n",
    "\n",
    "add = counter(add)\n",
    "print(add(1, 3))"
   ]
  },
  {
   "cell_type": "code",
   "execution_count": 26,
   "metadata": {},
   "outputs": [
    {
     "name": "stdout",
     "output_type": "stream",
     "text": [
      "addition of two integers\n",
      "Help on function add in module __main__:\n",
      "\n",
      "add(a: int, b: int = 0) -> int\n",
      "    addition of two integers\n",
      "\n",
      "None\n"
     ]
    }
   ],
   "source": [
    "print(add.__doc__)\n",
    "print(help(add))"
   ]
  },
  {
   "cell_type": "markdown",
   "metadata": {},
   "source": [
    "### Наполнение стека"
   ]
  },
  {
   "cell_type": "code",
   "execution_count": 6,
   "metadata": {},
   "outputs": [
    {
     "name": "stdout",
     "output_type": "stream",
     "text": [
      "30\n",
      "1\n",
      "30\n",
      "2\n",
      "30\n",
      "3\n",
      "30\n",
      "4\n",
      "Stack ist voll\n",
      "Stack ist voll\n"
     ]
    }
   ],
   "source": [
    "def stack(fn):\n",
    "    count = 0\n",
    "    def inner(*args, **kwargs):\n",
    "        nonlocal count\n",
    "        while count <= 3:\n",
    "            result = fn(*args, **kwargs)\n",
    "            count += 1\n",
    "            print(count)\n",
    "            return result\n",
    "        else:\n",
    "            print(\"Stack ist voll\")\n",
    "    return inner\n",
    "\n",
    "@stack\n",
    "def add(a, b):\n",
    "    print(a + b)\n",
    "\n",
    "for x in range(6):\n",
    "    add(10, 20)"
   ]
  }
 ],
 "metadata": {
  "kernelspec": {
   "display_name": "Python 3",
   "language": "python",
   "name": "python3"
  },
  "language_info": {
   "codemirror_mode": {
    "name": "ipython",
    "version": 3
   },
   "file_extension": ".py",
   "mimetype": "text/x-python",
   "name": "python",
   "nbconvert_exporter": "python",
   "pygments_lexer": "ipython3",
   "version": "3.7.6"
  }
 },
 "nbformat": 4,
 "nbformat_minor": 4
}
