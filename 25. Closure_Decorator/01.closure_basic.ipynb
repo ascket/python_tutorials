{
 "cells": [
  {
   "cell_type": "markdown",
   "metadata": {},
   "source": [
    "## Замыкания через class:"
   ]
  },
  {
   "cell_type": "code",
   "execution_count": 3,
   "metadata": {},
   "outputs": [
    {
     "name": "stdout",
     "output_type": "stream",
     "text": [
      "10.0\n",
      "35.0\n",
      "{'numbers': [10, 60]}\n"
     ]
    }
   ],
   "source": [
    "class MyClass(object):\n",
    "    def __init__(self):\n",
    "        self.numbers = []\n",
    "\n",
    "    def add(self, number):\n",
    "        self.numbers.append(number)\n",
    "        total = sum(self.numbers)\n",
    "        count = len(self.numbers)\n",
    "        return total / count\n",
    "\n",
    "\n",
    "a = MyClass()\n",
    "print(a.add(10))\n",
    "print(a.add(60))\n",
    "print(a.__dict__)"
   ]
  },
  {
   "cell_type": "markdown",
   "metadata": {},
   "source": [
    "## Функция average делает тоже самое, что и класс MyClass:"
   ]
  },
  {
   "cell_type": "code",
   "execution_count": 11,
   "metadata": {},
   "outputs": [
    {
     "name": "stdout",
     "output_type": "stream",
     "text": [
      "3.0\n",
      "(<cell at 0x00000216042D95E8: list object at 0x0000021604318848>,)\n",
      "('numbers',)\n"
     ]
    }
   ],
   "source": [
    "def average():\n",
    "    numbers = []\n",
    "\n",
    "    def add(*args):\n",
    "        numbers.append(*args)\n",
    "        total = sum(numbers)\n",
    "        count = len(numbers)\n",
    "        return total / count\n",
    "    return add\n",
    "\n",
    "a2 = average()\n",
    "print(a2(3))\n",
    "print(a2.__closure__)\n",
    "print(a2.__code__.co_freevars)"
   ]
  },
  {
   "cell_type": "markdown",
   "metadata": {},
   "source": [
    "## Без использования списка"
   ]
  },
  {
   "cell_type": "code",
   "execution_count": 12,
   "metadata": {},
   "outputs": [
    {
     "name": "stdout",
     "output_type": "stream",
     "text": [
      "3.0\n"
     ]
    }
   ],
   "source": [
    "def my_func():\n",
    "    total = 0\n",
    "    count = 0\n",
    "    def inner(number):\n",
    "        nonlocal total\n",
    "        nonlocal count\n",
    "        total += number\n",
    "        count += 1\n",
    "        return total / count\n",
    "    return inner\n",
    "\n",
    "a3 = my_func()\n",
    "print(a3(3))"
   ]
  },
  {
   "cell_type": "markdown",
   "metadata": {},
   "source": [
    "## Усложняем и добавляем счётчик для функции:"
   ]
  },
  {
   "cell_type": "code",
   "execution_count": 20,
   "metadata": {},
   "outputs": [
    {
     "name": "stdout",
     "output_type": "stream",
     "text": [
      "(<cell at 0x00000216043AF3A8: int object at 0x00007FFA41C7A170>, <cell at 0x00000216043AF5E8: function object at 0x00000216042EA0D8>)\n",
      "('count', 'fn')\n",
      "8\n",
      "8\n",
      "8\n",
      "8\n",
      "15\n",
      "{'add': 4, 'mult': 1}\n"
     ]
    }
   ],
   "source": [
    "dicter = {}\n",
    "def myfunc(fn):\n",
    "    count = 0\n",
    "    def inner(*args, **kwargs):\n",
    "        nonlocal count\n",
    "        result = fn(*args, **kwargs)\n",
    "        count += 1\n",
    "        dicter[fn.__name__] = count\n",
    "        return result\n",
    "    return inner\n",
    "\n",
    "def add(a, b):\n",
    "    return a + b\n",
    "\n",
    "def mult(a, b):\n",
    "    return a * b\n",
    "\n",
    "a4 = myfunc(add)\n",
    "a5 = myfunc(mult)\n",
    "print(a4.__closure__)\n",
    "print(a4.__code__.co_freevars)\n",
    "print(a4(3, 5))\n",
    "print(a4(3, 5))\n",
    "print(a4(3, 5))\n",
    "print(a4(3, 5))\n",
    "print(a5(3, 5))\n",
    "print(dicter)"
   ]
  },
  {
   "cell_type": "code",
   "execution_count": 7,
   "metadata": {},
   "outputs": [
    {
     "name": "stdout",
     "output_type": "stream",
     "text": [
      "0x2c0443ddbc8\n",
      "0x2c0443d0548\n"
     ]
    }
   ],
   "source": [
    "def outer():\n",
    "    x = [1, 2, 3]\n",
    "    print(hex(id(x)))\n",
    "    def inner():\n",
    "        x = [1, 2, 3]\n",
    "        print(hex(id(x)))\n",
    "    return inner\n",
    "\n",
    "a = outer()\n",
    "a()"
   ]
  },
  {
   "cell_type": "code",
   "execution_count": 28,
   "metadata": {},
   "outputs": [
    {
     "name": "stdout",
     "output_type": "stream",
     "text": [
      "0x2c042636bf0\n",
      "0x2c042636bf0\n"
     ]
    }
   ],
   "source": [
    "def outer():\n",
    "    x = \"python\"\n",
    "    print(hex(id(x)))\n",
    "    def inner():\n",
    "        x = \"python\"\n",
    "        print(hex(id(x)))\n",
    "    return inner\n",
    "\n",
    "a = outer()\n",
    "a()"
   ]
  }
 ],
 "metadata": {
  "kernelspec": {
   "display_name": "Python 3",
   "language": "python",
   "name": "python3"
  },
  "language_info": {
   "codemirror_mode": {
    "name": "ipython",
    "version": 3
   },
   "file_extension": ".py",
   "mimetype": "text/x-python",
   "name": "python",
   "nbconvert_exporter": "python",
   "pygments_lexer": "ipython3",
   "version": "3.7.6"
  }
 },
 "nbformat": 4,
 "nbformat_minor": 4
}
