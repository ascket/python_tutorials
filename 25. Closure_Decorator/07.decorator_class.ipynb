{
 "cells": [
  {
   "cell_type": "markdown",
   "metadata": {},
   "source": [
    "### Как использовать классы для декорирования функции\n",
    "<b>Создадим decorator factory</b>"
   ]
  },
  {
   "cell_type": "code",
   "execution_count": 5,
   "metadata": {},
   "outputs": [
    {
     "name": "stdout",
     "output_type": "stream",
     "text": [
      "Decorated function called: a = 10, b = 20\n",
      "Hello World\n"
     ]
    }
   ],
   "source": [
    "def my_dec(a, b):\n",
    "    def dec(fn):\n",
    "        def inner(*args, **kwargs):\n",
    "            print(\"Decorated function called: a = {0}, b = {1}\".format(a, b))\n",
    "            return fn(*args, **kwargs)\n",
    "        return inner\n",
    "    return dec\n",
    "\n",
    "\n",
    "@my_dec(10, 20)\n",
    "def my_func(s):\n",
    "    print(\"Hello {0}\".format(s))\n",
    "\n",
    "\n",
    "my_func(\"World\")"
   ]
  },
  {
   "cell_type": "markdown",
   "metadata": {},
   "source": [
    "<b>Создадим class</b>"
   ]
  },
  {
   "cell_type": "code",
   "execution_count": 4,
   "metadata": {},
   "outputs": [
    {
     "name": "stdout",
     "output_type": "stream",
     "text": [
      "called a = 10, b = 20, c = 100\n"
     ]
    }
   ],
   "source": [
    "class MyClass():\n",
    "    def __init__(self, a, b):\n",
    "        self.a = a\n",
    "        self.b = b\n",
    "\n",
    "    def __call__(self, c):\n",
    "        print(\"called a = {0}, b = {1}, c = {2}\".format(self.a, self.b, c))\n",
    "\n",
    "\n",
    "obj = MyClass(10, 20)\n",
    "obj(100)"
   ]
  },
  {
   "cell_type": "markdown",
   "metadata": {},
   "source": [
    "<b>Теперь сделаем class MyClass фабрикой декоратора,</b><br>\n",
    "<b>а метод __call__ будет декоратором</b>"
   ]
  },
  {
   "cell_type": "code",
   "execution_count": 9,
   "metadata": {},
   "outputs": [
    {
     "name": "stdout",
     "output_type": "stream",
     "text": [
      "Decorated function called: a = 10, b = 20\n",
      "Hallo World\n"
     ]
    }
   ],
   "source": [
    "class MyClass():\n",
    "    def __init__(self, a, b):\n",
    "        self.a = a\n",
    "        self.b = b\n",
    "\n",
    "    def __call__(self, fn):\n",
    "        def inner(*args, **kwargs):\n",
    "            print(\"Decorated function called: a = {0}, b = {1}\".format(\n",
    "                self.a, self.b))\n",
    "            return fn(*args, **kwargs)\n",
    "        return inner\n",
    "\n",
    "@MyClass(10, 20)\n",
    "def my_func(s):\n",
    "    print(\"Hallo {0}\".format(s))\n",
    "\n",
    "my_func(\"World\")"
   ]
  },
  {
   "cell_type": "code",
   "execution_count": 10,
   "metadata": {},
   "outputs": [
    {
     "name": "stdout",
     "output_type": "stream",
     "text": [
      "Decorated function called: a = 10, b = 20\n",
      "Hallo World\n"
     ]
    }
   ],
   "source": [
    "#@MyClass(10, 20) равносильно такой записи\n",
    "\n",
    "obj = MyClass(10, 20)\n",
    "def my_func(s):\n",
    "    print(\"Hallo {0}\".format(s))\n",
    "\n",
    "my_func = obj(my_func)\n",
    "my_func(\"World\")"
   ]
  }
 ],
 "metadata": {
  "kernelspec": {
   "display_name": "Python 3",
   "language": "python",
   "name": "python3"
  },
  "language_info": {
   "codemirror_mode": {
    "name": "ipython",
    "version": 3
   },
   "file_extension": ".py",
   "mimetype": "text/x-python",
   "name": "python",
   "nbconvert_exporter": "python",
   "pygments_lexer": "ipython3",
   "version": "3.7.6"
  }
 },
 "nbformat": 4,
 "nbformat_minor": 4
}
