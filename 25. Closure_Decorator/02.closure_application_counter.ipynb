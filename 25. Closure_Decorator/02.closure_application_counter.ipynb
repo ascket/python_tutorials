{
 "cells": [
  {
   "cell_type": "code",
   "execution_count": 6,
   "metadata": {},
   "outputs": [
    {
     "data": {
      "text/plain": [
       "15.0"
      ]
     },
     "execution_count": 6,
     "metadata": {},
     "output_type": "execute_result"
    }
   ],
   "source": [
    "class MyAverage():\n",
    "    def __init__(self):\n",
    "        self.numbers = []\n",
    "    \n",
    "    def add(self, number):\n",
    "        self.numbers.append(number)\n",
    "        total = sum(self.numbers)\n",
    "        count = len(self.numbers)\n",
    "        return total / count\n",
    "\n",
    "my_class = MyAverage()\n",
    "my_class.add(10)"
   ]
  },
  {
   "cell_type": "markdown",
   "metadata": {},
   "source": [
    "## Вместо класса используем замыкание"
   ]
  },
  {
   "cell_type": "code",
   "execution_count": 18,
   "metadata": {},
   "outputs": [
    {
     "name": "stdout",
     "output_type": "stream",
     "text": [
      "(<cell at 0x00000264DF69EE58: list object at 0x00000264DF65A688>,)\n",
      "('numbers',)\n"
     ]
    },
    {
     "data": {
      "text/plain": [
       "10.0"
      ]
     },
     "execution_count": 18,
     "metadata": {},
     "output_type": "execute_result"
    }
   ],
   "source": [
    "def closure():\n",
    "    numbers = []\n",
    "    def inner(n):\n",
    "        numbers.append(n)\n",
    "        total = sum(numbers)\n",
    "        count = len(numbers)\n",
    "        return total / count\n",
    "    return inner\n",
    "\n",
    "a = closure()\n",
    "print(a.__closure__)\n",
    "print(a.__code__.co_freevars)\n",
    "a(10)"
   ]
  },
  {
   "cell_type": "markdown",
   "metadata": {},
   "source": [
    "## Избавимся от списка"
   ]
  },
  {
   "cell_type": "code",
   "execution_count": 28,
   "metadata": {},
   "outputs": [
    {
     "name": "stdout",
     "output_type": "stream",
     "text": [
      "('count', 'total')\n",
      "(<cell at 0x00000264DF66AE28: int object at 0x00007FFA3153A170>, <cell at 0x00000264DF66A078: int object at 0x00007FFA3153A170>)\n"
     ]
    },
    {
     "data": {
      "text/plain": [
       "10.0"
      ]
     },
     "execution_count": 28,
     "metadata": {},
     "output_type": "execute_result"
    }
   ],
   "source": [
    "def averager():\n",
    "    total = 0\n",
    "    count = 0\n",
    "    def inner(number):\n",
    "        nonlocal total\n",
    "        nonlocal count\n",
    "        total += number\n",
    "        count += 1\n",
    "        return total / count\n",
    "    return inner\n",
    "\n",
    "a2 = averager()\n",
    "print(a2.__code__.co_freevars)\n",
    "print(a2.__closure__)\n",
    "a2(10)"
   ]
  },
  {
   "cell_type": "code",
   "execution_count": 30,
   "metadata": {},
   "outputs": [
    {
     "name": "stdout",
     "output_type": "stream",
     "text": [
      "10.0\n"
     ]
    }
   ],
   "source": [
    "class MyAverager():\n",
    "    def __init__(self):\n",
    "        self.total = 0\n",
    "        self.count = 0\n",
    "    \n",
    "    def func(self, number):\n",
    "        self.total += number\n",
    "        self.count += 1\n",
    "        return self.total / self.count\n",
    "\n",
    "a = MyAverager()\n",
    "print(a.func(10))"
   ]
  },
  {
   "cell_type": "markdown",
   "metadata": {},
   "source": [
    "## Добавим счётчик"
   ]
  },
  {
   "cell_type": "code",
   "execution_count": 15,
   "metadata": {},
   "outputs": [
    {
     "data": {
      "text/plain": [
       "3.749999996216502e-05"
      ]
     },
     "execution_count": 15,
     "metadata": {},
     "output_type": "execute_result"
    }
   ],
   "source": [
    "from time import perf_counter\n",
    "\n",
    "class Timer():\n",
    "    def __init__(self):\n",
    "        self.start = perf_counter()\n",
    "    \n",
    "    def counter(self):\n",
    "        return perf_counter() - self.start\n",
    "\n",
    "t1 = Timer()\n",
    "t1.counter()"
   ]
  },
  {
   "cell_type": "code",
   "execution_count": 16,
   "metadata": {},
   "outputs": [
    {
     "data": {
      "text/plain": [
       "3.429275299999972"
      ]
     },
     "execution_count": 16,
     "metadata": {},
     "output_type": "execute_result"
    }
   ],
   "source": [
    "t1.counter()"
   ]
  },
  {
   "cell_type": "markdown",
   "metadata": {},
   "source": [
    "## Упростим класс с помощью метода __call__"
   ]
  },
  {
   "cell_type": "code",
   "execution_count": 21,
   "metadata": {},
   "outputs": [
    {
     "name": "stdout",
     "output_type": "stream",
     "text": [
      "5.9699999951590144e-05\n"
     ]
    }
   ],
   "source": [
    "from time import perf_counter\n",
    "class Timer():\n",
    "    def __init__(self):\n",
    "        self.start = perf_counter()\n",
    "    \n",
    "    def __call__(self):\n",
    "        return perf_counter() - self.start\n",
    "\n",
    "t2 = Timer()\n",
    "print(t2())"
   ]
  },
  {
   "cell_type": "markdown",
   "metadata": {},
   "source": [
    "## Сделаем тоже самое с помощью замыкания"
   ]
  },
  {
   "cell_type": "code",
   "execution_count": 24,
   "metadata": {},
   "outputs": [
    {
     "name": "stdout",
     "output_type": "stream",
     "text": [
      "4.5700000100623583e-05\n"
     ]
    }
   ],
   "source": [
    "def closure():\n",
    "    start = perf_counter()\n",
    "    def inner():\n",
    "        return perf_counter() - start\n",
    "    return inner\n",
    "\n",
    "a = closure()\n",
    "print(a())"
   ]
  },
  {
   "cell_type": "markdown",
   "metadata": {},
   "source": [
    "## Сделаем простой счётчик"
   ]
  },
  {
   "cell_type": "code",
   "execution_count": 28,
   "metadata": {},
   "outputs": [
    {
     "name": "stdout",
     "output_type": "stream",
     "text": [
      "1\n",
      "2\n"
     ]
    }
   ],
   "source": [
    "def counter(initial_value = 0):\n",
    "    def inc(increment = 1):\n",
    "        nonlocal initial_value\n",
    "        initial_value += increment\n",
    "        return initial_value\n",
    "    return inc\n",
    "\n",
    "a1 = counter()\n",
    "print(a1())\n",
    "print(a1())"
   ]
  },
  {
   "cell_type": "markdown",
   "metadata": {},
   "source": [
    "## Будем отсчитывать, сколько раз отработала функция"
   ]
  },
  {
   "cell_type": "code",
   "execution_count": 29,
   "metadata": {},
   "outputs": [],
   "source": [
    "def counter(fn):\n",
    "    count = 0\n",
    "    def inner(*args, **kwargs):\n",
    "        nonlocal count\n",
    "        count += 1\n",
    "        print(\"{0} has been called {1} times\".format(fn.__name__, count))\n",
    "        return fn(*args, **kwargs)\n",
    "    return inner\n",
    "\n",
    "def add(a, b):\n",
    "    return a + b\n",
    "\n",
    "def mult(a, b):\n",
    "    return a * b"
   ]
  },
  {
   "cell_type": "code",
   "execution_count": 33,
   "metadata": {},
   "outputs": [
    {
     "name": "stdout",
     "output_type": "stream",
     "text": [
      "add has been called 1 times\n",
      "44\n"
     ]
    }
   ],
   "source": [
    "counter_add = counter(add)\n",
    "print(counter_add(10, 34))"
   ]
  },
  {
   "cell_type": "markdown",
   "metadata": {},
   "source": [
    "## Расширим, будем сохранять в словарь название функции и сколько раз она вызывалась"
   ]
  },
  {
   "cell_type": "code",
   "execution_count": 34,
   "metadata": {},
   "outputs": [
    {
     "name": "stdout",
     "output_type": "stream",
     "text": [
      "7\n",
      "7\n",
      "7\n",
      "36\n",
      "36\n",
      "{'add': 3, 'mult': 2}\n"
     ]
    }
   ],
   "source": [
    "dicter = {}\n",
    "\n",
    "\n",
    "def counter(fn):\n",
    "    count = 0\n",
    "\n",
    "    def inner(*args, **kwargs):\n",
    "        nonlocal count\n",
    "        count += 1\n",
    "        dicter[fn.__name__] = count\n",
    "        return fn(*args, **kwargs)\n",
    "    return inner\n",
    "\n",
    "\n",
    "def add(x, y):\n",
    "    return x + y\n",
    "\n",
    "\n",
    "def mult(x, y):\n",
    "    return x * y\n",
    "\n",
    "\n",
    "a = counter(add)\n",
    "b = counter(mult)\n",
    "print(a(3, 4))\n",
    "print(a(3, 4))\n",
    "print(a(3, 4))\n",
    "print(b(6, 6))\n",
    "print(b(6, 6))\n",
    "print(dicter)"
   ]
  },
  {
   "cell_type": "markdown",
   "metadata": {},
   "source": [
    "## Можем добавить словарь как параментр функции"
   ]
  },
  {
   "cell_type": "code",
   "execution_count": 36,
   "metadata": {},
   "outputs": [
    {
     "name": "stdout",
     "output_type": "stream",
     "text": [
      "7\n",
      "7\n",
      "7\n",
      "36\n",
      "36\n",
      "{'add': 3, 'mult': 2}\n"
     ]
    }
   ],
   "source": [
    "def counter(fn, counters):\n",
    "    count = 0\n",
    "    def inner(*args, **kwargs):\n",
    "        nonlocal count\n",
    "        count += 1\n",
    "        counters[fn.__name__] = count\n",
    "        return fn(*args, **kwargs)\n",
    "    return inner\n",
    "\n",
    "c = {}\n",
    "\n",
    "a = counter(add, c)\n",
    "b = counter(mult, c)\n",
    "print(a(3, 4))\n",
    "print(a(3, 4))\n",
    "print(a(3, 4))\n",
    "print(b(6, 6))\n",
    "print(b(6, 6))\n",
    "print(dicter)"
   ]
  },
  {
   "cell_type": "code",
   "execution_count": 41,
   "metadata": {},
   "outputs": [
    {
     "name": "stdout",
     "output_type": "stream",
     "text": [
      "120\n",
      "5040\n",
      "{'add': 3, 'mult': 2, 'fact': 2}\n"
     ]
    }
   ],
   "source": [
    "def fact(n):\n",
    "    start = 1\n",
    "    for x in range(2, n + 1):\n",
    "        start *= x\n",
    "    return start\n",
    "\n",
    "\n",
    "counter_add = counter(fact, c)\n",
    "print(counter_add(5))\n",
    "print(counter_add(7))\n",
    "print(c)"
   ]
  },
  {
   "cell_type": "markdown",
   "metadata": {},
   "source": [
    "## Пришли к декораторам"
   ]
  },
  {
   "cell_type": "code",
   "execution_count": 45,
   "metadata": {},
   "outputs": [
    {
     "name": "stdout",
     "output_type": "stream",
     "text": [
      "120\n",
      "61\n",
      "{'add': 2, 'mult': 2, 'fact': 3, 'inner': 1}\n"
     ]
    }
   ],
   "source": [
    "fact = counter(fact, c)\n",
    "add = counter(add, c)\n",
    "print(fact(5))\n",
    "print(add(5, 56))\n",
    "print(c)"
   ]
  }
 ],
 "metadata": {
  "kernelspec": {
   "display_name": "Python 3",
   "language": "python",
   "name": "python3"
  },
  "language_info": {
   "codemirror_mode": {
    "name": "ipython",
    "version": 3
   },
   "file_extension": ".py",
   "mimetype": "text/x-python",
   "name": "python",
   "nbconvert_exporter": "python",
   "pygments_lexer": "ipython3",
   "version": "3.7.6"
  }
 },
 "nbformat": 4,
 "nbformat_minor": 4
}
