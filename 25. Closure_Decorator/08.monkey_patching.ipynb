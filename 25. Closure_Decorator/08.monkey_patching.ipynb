{
 "cells": [
  {
   "cell_type": "markdown",
   "metadata": {},
   "source": [
    "### Monkey Patching меняет поведение функции динамически"
   ]
  },
  {
   "cell_type": "code",
   "execution_count": 17,
   "metadata": {},
   "outputs": [
    {
     "name": "stdout",
     "output_type": "stream",
     "text": [
      "7\n",
      "OK\n"
     ]
    }
   ],
   "source": [
    "class MyClass():\n",
    "    def __init__(self, a, b):\n",
    "        self.a = a\n",
    "        self.b = b\n",
    "    \n",
    "    def add(self):\n",
    "        return self.a + self.b\n",
    "\n",
    "my = MyClass(3, 4)\n",
    "print(my.add())\n",
    "MyClass.speak = \"OK\"  #Monkey Patching\n",
    "print(my.speak)"
   ]
  },
  {
   "cell_type": "markdown",
   "metadata": {},
   "source": [
    "### Можем сделать monkey patching с lambda"
   ]
  },
  {
   "cell_type": "code",
   "execution_count": 15,
   "metadata": {},
   "outputs": [
    {
     "name": "stdout",
     "output_type": "stream",
     "text": [
      "This is a message: My Message\n"
     ]
    }
   ],
   "source": [
    "MyClass.speak2 = lambda self, message: \"This is a message: {}\".format(message)\n",
    "print(my.speak2(\"My Message\"))"
   ]
  },
  {
   "cell_type": "markdown",
   "metadata": {},
   "source": [
    "<b>На примере класса Fraction модуля fractions</b>"
   ]
  },
  {
   "cell_type": "code",
   "execution_count": 26,
   "metadata": {},
   "outputs": [
    {
     "name": "stdout",
     "output_type": "stream",
     "text": [
      "2/3\n",
      "3\n",
      "2\n"
     ]
    }
   ],
   "source": [
    "from fractions import Fraction\n",
    "\n",
    "f = Fraction(2, 3)\n",
    "print(f)\n",
    "print(f.denominator)\n",
    "print(f.numerator)"
   ]
  },
  {
   "cell_type": "code",
   "execution_count": 16,
   "metadata": {},
   "outputs": [
    {
     "name": "stdout",
     "output_type": "stream",
     "text": [
      "100\n"
     ]
    }
   ],
   "source": [
    "Fraction.speak = 100 #Monkey Patching\n",
    "print(f.speak)"
   ]
  },
  {
   "cell_type": "markdown",
   "metadata": {},
   "source": [
    "<b>Более полезное применение</b>"
   ]
  },
  {
   "cell_type": "code",
   "execution_count": 33,
   "metadata": {},
   "outputs": [
    {
     "name": "stdout",
     "output_type": "stream",
     "text": [
      "False\n",
      "True\n"
     ]
    }
   ],
   "source": [
    "Fraction.is_integral = lambda self: self.denominator == 1\n",
    "f1 = Fraction(2, 3)\n",
    "f2 = Fraction(64, 8)\n",
    "print(f1.is_integral())\n",
    "print(f2.is_integral())"
   ]
  },
  {
   "cell_type": "markdown",
   "metadata": {},
   "source": [
    "<b>Декорируем класс</b>"
   ]
  },
  {
   "cell_type": "code",
   "execution_count": 37,
   "metadata": {},
   "outputs": [
    {
     "name": "stdout",
     "output_type": "stream",
     "text": [
      "3\n",
      "Fraction says: Hello\n"
     ]
    },
    {
     "data": {
      "text/plain": [
       "'Person says: this is a message'"
      ]
     },
     "execution_count": 37,
     "metadata": {},
     "output_type": "execute_result"
    }
   ],
   "source": [
    "def dec_speak(cls):\n",
    "    cls.speak = lambda self, message: \"{0} says: {1}\".format(\n",
    "        self.__class__.__name__, message)  #cls.speak это метод класса, и вызываться будет соответственно\n",
    "    return cls\n",
    "\n",
    "\"\"\"cls.speak можно было бы прописать в классе, напр. так\n",
    "\n",
    "class NewClass():\n",
    "    def __init__(self):\n",
    "        pass\n",
    "\n",
    "    def speak(self):\n",
    "        return \"{0} says: {1}\".format(self.__class__.__name__, message)\n",
    "\n",
    "\"\"\"\n",
    "\n",
    "\n",
    "Fraction = dec_speak(Fraction)\n",
    "f1 = Fraction(2, 3)\n",
    "print(f1.denominator)\n",
    "print(f1.speak(\"Hello\"))\n",
    "\n",
    "class Person():\n",
    "    pass\n",
    "\n",
    "Person = dec_speak(Person)\n",
    "p = Person()\n",
    "p.speak(\"this is a message\")"
   ]
  },
  {
   "cell_type": "markdown",
   "metadata": {},
   "source": [
    "### Debuger"
   ]
  },
  {
   "cell_type": "code",
   "execution_count": 40,
   "metadata": {},
   "outputs": [
    {
     "name": "stdout",
     "output_type": "stream",
     "text": [
      "['time: 2020-05-15 16:08:22.164286+00:00', 'Class: Person', 'id: 0x2478a62ddc8', 'name: Max', 'birth_year: 1990']\n"
     ]
    }
   ],
   "source": [
    "from datetime import datetime, timezone\n",
    "\n",
    "\n",
    "def info(self):\n",
    "    result = []\n",
    "    result.append(\"time: {}\".format(datetime.now(timezone.utc)))\n",
    "    result.append(\"Class: {}\".format(self.__class__.__name__))\n",
    "    result.append(\"id: {}\".format(hex(id(self))))\n",
    "    for k, v in vars(self).items():\n",
    "        result.append(\"{}: {}\".format(k, v))\n",
    "    return result\n",
    "\n",
    "\n",
    "def debug_info(cls):\n",
    "    cls.debug = info\n",
    "    return cls\n",
    "\n",
    "\n",
    "@debug_info\n",
    "class Person():\n",
    "    def __init__(self, name, birth_year):\n",
    "        self.name = name\n",
    "        self.birth_year = birth_year\n",
    "\n",
    "    # этот метод нигде не вызывается, написан просто для наглядности\n",
    "    def say_hi():\n",
    "        return \"Hallo there!\"\n",
    "\n",
    "\n",
    "p = Person(\"Max\", 1990)\n",
    "print(p.debug())\n",
    "# получается, что def info(self) - это метод класса, вынесенный из класса"
   ]
  },
  {
   "cell_type": "code",
   "execution_count": 41,
   "metadata": {},
   "outputs": [
    {
     "name": "stdout",
     "output_type": "stream",
     "text": [
      "['time: 2020-05-15 16:47:43.858763+00:00', 'Class: Automobile', 'id: 0x2478a657708', 'make: Frod', 'model: Model T', 'year: 1908', 'top_speed: 45', '_speed: 0']\n",
      "['time: 2020-05-15 16:47:43.859766+00:00', 'Class: Automobile', 'id: 0x2478a657708', 'make: Frod', 'model: Model T', 'year: 1908', 'top_speed: 45', '_speed: 40']\n"
     ]
    }
   ],
   "source": [
    "from datetime import datetime, timezone\n",
    "\n",
    "\n",
    "def info(self):\n",
    "    result = []\n",
    "    result.append(\"time: {}\".format(datetime.now(timezone.utc)))\n",
    "    result.append(\"Class: {}\".format(self.__class__.__name__))\n",
    "    result.append(\"id: {}\".format(hex(id(self))))\n",
    "    for k, v in vars(self).items():\n",
    "        result.append(\"{}: {}\".format(k, v))\n",
    "    return result\n",
    "\n",
    "\n",
    "def debug_info(cls):\n",
    "    cls.debug = info\n",
    "    return cls\n",
    "\n",
    "\n",
    "@debug_info\n",
    "class Automobile():\n",
    "    def __init__(self, make, model, year, top_speed):\n",
    "        self.make = make\n",
    "        self.model = model\n",
    "        self.year = year\n",
    "        self.top_speed = top_speed\n",
    "        self._speed = 0\n",
    "\n",
    "    @property\n",
    "    def speed(self):\n",
    "        return self._speed\n",
    "\n",
    "    @speed.setter\n",
    "    def speed(self, new_speed):\n",
    "        if new_speed > self.top_speed:\n",
    "            raise ValueError(\"Speed connot exceed top_speed\")\n",
    "        else:\n",
    "            self._speed = new_speed\n",
    "\n",
    "\n",
    "favorite = Automobile(\"Frod\", \"Model T\", 1908, 45)\n",
    "\n",
    "print(favorite.debug())\n",
    "favorite.speed = 40\n",
    "print(favorite.debug())\n"
   ]
  },
  {
   "cell_type": "code",
   "execution_count": null,
   "metadata": {},
   "outputs": [],
   "source": []
  }
 ],
 "metadata": {
  "kernelspec": {
   "display_name": "Python 3",
   "language": "python",
   "name": "python3"
  },
  "language_info": {
   "codemirror_mode": {
    "name": "ipython",
    "version": 3
   },
   "file_extension": ".py",
   "mimetype": "text/x-python",
   "name": "python",
   "nbconvert_exporter": "python",
   "pygments_lexer": "ipython3",
   "version": "3.7.6"
  }
 },
 "nbformat": 4,
 "nbformat_minor": 4
}
