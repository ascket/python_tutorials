{
 "cells": [
  {
   "cell_type": "markdown",
   "metadata": {},
   "source": [
    "### Monkey Patching меняет поведение функции динамически"
   ]
  },
  {
   "cell_type": "code",
   "execution_count": 17,
   "metadata": {},
   "outputs": [
    {
     "name": "stdout",
     "output_type": "stream",
     "text": [
      "7\n",
      "OK\n"
     ]
    }
   ],
   "source": [
    "class MyClass():\n",
    "    def __init__(self, a, b):\n",
    "        self.a = a\n",
    "        self.b = b\n",
    "    \n",
    "    def add(self):\n",
    "        return self.a + self.b\n",
    "\n",
    "my = MyClass(3, 4)\n",
    "print(my.add())\n",
    "MyClass.speak = \"OK\"  #Monkey Patching\n",
    "print(my.speak)"
   ]
  },
  {
   "cell_type": "markdown",
   "metadata": {},
   "source": [
    "### Можем сделать monkey patching с lambda"
   ]
  },
  {
   "cell_type": "code",
   "execution_count": 15,
   "metadata": {},
   "outputs": [
    {
     "name": "stdout",
     "output_type": "stream",
     "text": [
      "This is a message: My Message\n"
     ]
    }
   ],
   "source": [
    "MyClass.speak2 = lambda self, message: \"This is a message: {}\".format(message)\n",
    "print(my.speak2(\"My Message\"))"
   ]
  },
  {
   "cell_type": "markdown",
   "metadata": {},
   "source": [
    "<b>На примере класса Fraction модуля fractions</b>"
   ]
  },
  {
   "cell_type": "code",
   "execution_count": 26,
   "metadata": {},
   "outputs": [
    {
     "name": "stdout",
     "output_type": "stream",
     "text": [
      "2/3\n",
      "3\n",
      "2\n"
     ]
    }
   ],
   "source": [
    "from fractions import Fraction\n",
    "\n",
    "f = Fraction(2, 3)\n",
    "print(f)\n",
    "print(f.denominator)\n",
    "print(f.numerator)"
   ]
  },
  {
   "cell_type": "code",
   "execution_count": 16,
   "metadata": {},
   "outputs": [
    {
     "name": "stdout",
     "output_type": "stream",
     "text": [
      "100\n"
     ]
    }
   ],
   "source": [
    "Fraction.speak = 100 #Monkey Patching\n",
    "print(f.speak)"
   ]
  },
  {
   "cell_type": "markdown",
   "metadata": {},
   "source": [
    "<b>Более полезное применение</b>"
   ]
  },
  {
   "cell_type": "code",
   "execution_count": 33,
   "metadata": {},
   "outputs": [
    {
     "name": "stdout",
     "output_type": "stream",
     "text": [
      "False\n",
      "True\n"
     ]
    }
   ],
   "source": [
    "Fraction.is_integral = lambda self: self.denominator == 1\n",
    "f1 = Fraction(2, 3)\n",
    "f2 = Fraction(64, 8)\n",
    "print(f1.is_integral())\n",
    "print(f2.is_integral())"
   ]
  },
  {
   "cell_type": "markdown",
   "metadata": {},
   "source": [
    "<b>Декорируем класс</b>"
   ]
  },
  {
   "cell_type": "code",
   "execution_count": 37,
   "metadata": {},
   "outputs": [
    {
     "name": "stdout",
     "output_type": "stream",
     "text": [
      "3\n",
      "Fraction says: Hello\n"
     ]
    },
    {
     "data": {
      "text/plain": [
       "'Person says: this is a message'"
      ]
     },
     "execution_count": 37,
     "metadata": {},
     "output_type": "execute_result"
    }
   ],
   "source": [
    "def dec_speak(cls):\n",
    "    cls.speak = lambda self, message: \"{0} says: {1}\".format(\n",
    "        self.__class__.__name__, message)  #cls.speak это метод класса, и вызываться будет соответственно\n",
    "    return cls\n",
    "\n",
    "\"\"\"cls.speak можно было бы прописать в классе, напр. так\n",
    "\n",
    "class NewClass():\n",
    "    def __init__(self):\n",
    "        pass\n",
    "\n",
    "    def speak(self):\n",
    "        return \"{0} says: {1}\".format(self.__class__.__name__, message)\n",
    "\n",
    "\"\"\"\n",
    "\n",
    "\n",
    "Fraction = dec_speak(Fraction)\n",
    "f1 = Fraction(2, 3)\n",
    "print(f1.denominator)\n",
    "print(f1.speak(\"Hello\"))\n",
    "\n",
    "class Person():\n",
    "    pass\n",
    "\n",
    "Person = dec_speak(Person)\n",
    "p = Person()\n",
    "p.speak(\"this is a message\")"
   ]
  },
  {
   "cell_type": "markdown",
   "metadata": {},
   "source": [
    "### Debuger"
   ]
  },
  {
   "cell_type": "code",
   "execution_count": 40,
   "metadata": {},
   "outputs": [
    {
     "name": "stdout",
     "output_type": "stream",
     "text": [
      "['time: 2020-05-15 16:08:22.164286+00:00', 'Class: Person', 'id: 0x2478a62ddc8', 'name: Max', 'birth_year: 1990']\n"
     ]
    }
   ],
   "source": [
    "from datetime import datetime, timezone\n",
    "\n",
    "\n",
    "def info(self):\n",
    "    result = []\n",
    "    result.append(\"time: {}\".format(datetime.now(timezone.utc)))\n",
    "    result.append(\"Class: {}\".format(self.__class__.__name__))\n",
    "    result.append(\"id: {}\".format(hex(id(self))))\n",
    "    for k, v in vars(self).items():\n",
    "        result.append(\"{}: {}\".format(k, v))\n",
    "    return result\n",
    "\n",
    "\n",
    "def debug_info(cls):\n",
    "    cls.debug = info\n",
    "    return cls\n",
    "\n",
    "\n",
    "@debug_info\n",
    "class Person():\n",
    "    def __init__(self, name, birth_year):\n",
    "        self.name = name\n",
    "        self.birth_year = birth_year\n",
    "\n",
    "    # этот метод нигде не вызывается, написан просто для наглядности\n",
    "    def say_hi():\n",
    "        return \"Hallo there!\"\n",
    "\n",
    "\n",
    "p = Person(\"Max\", 1990)\n",
    "print(p.debug())\n",
    "# получается, что def info(self) - это метод класса, вынесенный из класса"
   ]
  },
  {
   "cell_type": "code",
   "execution_count": 41,
   "metadata": {},
   "outputs": [
    {
     "name": "stdout",
     "output_type": "stream",
     "text": [
      "['time: 2020-05-15 16:47:43.858763+00:00', 'Class: Automobile', 'id: 0x2478a657708', 'make: Frod', 'model: Model T', 'year: 1908', 'top_speed: 45', '_speed: 0']\n",
      "['time: 2020-05-15 16:47:43.859766+00:00', 'Class: Automobile', 'id: 0x2478a657708', 'make: Frod', 'model: Model T', 'year: 1908', 'top_speed: 45', '_speed: 40']\n"
     ]
    }
   ],
   "source": [
    "from datetime import datetime, timezone\n",
    "\n",
    "\n",
    "def info(self):\n",
    "    result = []\n",
    "    result.append(\"time: {}\".format(datetime.now(timezone.utc)))\n",
    "    result.append(\"Class: {}\".format(self.__class__.__name__))\n",
    "    result.append(\"id: {}\".format(hex(id(self))))\n",
    "    for k, v in vars(self).items():\n",
    "        result.append(\"{}: {}\".format(k, v))\n",
    "    return result\n",
    "\n",
    "\n",
    "def debug_info(cls):\n",
    "    cls.debug = info\n",
    "    return cls\n",
    "\n",
    "\n",
    "@debug_info\n",
    "class Automobile():\n",
    "    def __init__(self, make, model, year, top_speed):\n",
    "        self.make = make\n",
    "        self.model = model\n",
    "        self.year = year\n",
    "        self.top_speed = top_speed\n",
    "        self._speed = 0\n",
    "\n",
    "    @property\n",
    "    def speed(self):\n",
    "        return self._speed\n",
    "\n",
    "    @speed.setter\n",
    "    def speed(self, new_speed):\n",
    "        if new_speed > self.top_speed:\n",
    "            raise ValueError(\"Speed connot exceed top_speed\")\n",
    "        else:\n",
    "            self._speed = new_speed\n",
    "\n",
    "\n",
    "favorite = Automobile(\"Frod\", \"Model T\", 1908, 45)\n",
    "\n",
    "print(favorite.debug())\n",
    "favorite.speed = 40\n",
    "print(favorite.debug())\n"
   ]
  },
  {
   "cell_type": "markdown",
   "metadata": {},
   "source": [
    "### Усложним"
   ]
  },
  {
   "cell_type": "code",
   "execution_count": 1,
   "metadata": {},
   "outputs": [
    {
     "name": "stdout",
     "output_type": "stream",
     "text": [
      "['time: 2020-05-17 21:09:21.478366', 'class: Automobile', 'id: 0x2a875b4b4c8', 'make: Ford', 'model: Model T', 'year: 1908', 'top_speed: 45', '_speed: 0']\n",
      "['time: 2020-05-17 21:09:21.479361', 'class: Automobile', 'id: 0x2a875b4b4c8', 'make: Ford', 'model: Model T', 'year: 1908', 'top_speed: 45', '_speed: 40']\n",
      "40\n"
     ]
    }
   ],
   "source": [
    "def info(self):\n",
    "    from datetime import datetime\n",
    "    result = []\n",
    "    result.append(f\"time: {datetime.now()}\")\n",
    "    result.append(f\"class: {self.__class__.__name__}\")\n",
    "    result.append(\"id: {}\".format(hex(id(self))))\n",
    "    for key, values in vars(self).items():\n",
    "        result.append(f\"{key}: {values}\")\n",
    "    return result\n",
    "\n",
    "\n",
    "def debug_info(cls):\n",
    "    cls.debug = info\n",
    "    return cls\n",
    "\n",
    "\n",
    "@debug_info\n",
    "class Automobile():\n",
    "    def __init__(self, make, model, year, top_speed):\n",
    "        self.make = make\n",
    "        self.model = model\n",
    "        self.year = year\n",
    "        self.top_speed = top_speed\n",
    "        self._speed = 0\n",
    "\n",
    "    @property\n",
    "    def speed(self):\n",
    "        return self._speed\n",
    "\n",
    "    @speed.setter\n",
    "    def speed(self, new_speed):\n",
    "        if new_speed > self.top_speed:\n",
    "            raise ValueError(\"Speed can not exceed top speed\")\n",
    "\n",
    "        else:\n",
    "            self._speed = new_speed\n",
    "\n",
    "\n",
    "auto = Automobile(\"Ford\", \"Model T\", 1908, 45)\n",
    "print(auto.debug())\n",
    "auto.speed = 40\n",
    "print(auto.debug())\n",
    "print(auto.speed)"
   ]
  },
  {
   "cell_type": "markdown",
   "metadata": {},
   "source": [
    "### Сравниваем два класса"
   ]
  },
  {
   "cell_type": "code",
   "execution_count": 2,
   "metadata": {},
   "outputs": [
    {
     "name": "stdout",
     "output_type": "stream",
     "text": [
      "Point(10, 20)\n",
      "['__abs__', '__class__', '__delattr__', '__dict__', '__dir__', '__doc__', '__eq__', '__format__', '__ge__', '__getattribute__', '__gt__', '__hash__', '__init__', '__init_subclass__', '__le__', '__lt__', '__module__', '__ne__', '__new__', '__reduce__', '__reduce_ex__', '__repr__', '__setattr__', '__sizeof__', '__str__', '__subclasshook__', '__weakref__', 'x', 'y']\n"
     ]
    }
   ],
   "source": [
    "from math import sqrt\n",
    "\n",
    "\n",
    "class Point():\n",
    "    def __init__(self, x, y):\n",
    "        self.x = x\n",
    "        self.y = y\n",
    "\n",
    "    def __abs__(self):\n",
    "        return sqrt(self.x ** 2 + self.y ** 2)\n",
    "\n",
    "    def __repr__(self):\n",
    "        return \"Point({0}, {1})\".format(self.x, self.y)\n",
    "\n",
    "    def __eq__(self, other):\n",
    "        if isinstance(other, Point):\n",
    "            return self.x == other.x and self.y == other.y\n",
    "        else:\n",
    "            return False\n",
    "\n",
    "    def __lt__(self, other):\n",
    "        if type(self) == type(other):\n",
    "            return abs(self) < abs(other)\n",
    "        else:\n",
    "            return NotImplemented\n",
    "\n",
    "\n",
    "a1 = Point(10, 20)\n",
    "print(a1)\n",
    "print(dir(a1))"
   ]
  },
  {
   "cell_type": "markdown",
   "metadata": {},
   "source": [
    "### Сделаем сравнение двух классов через monkey patching"
   ]
  },
  {
   "cell_type": "code",
   "execution_count": 17,
   "metadata": {},
   "outputs": [
    {
     "name": "stdout",
     "output_type": "stream",
     "text": [
      "200.0\n",
      "False\n"
     ]
    },
    {
     "ename": "TypeError",
     "evalue": "'>=' not supported between instances of 'Point' and 'Point'",
     "output_type": "error",
     "traceback": [
      "\u001b[1;31m---------------------------------------------------------------------------\u001b[0m",
      "\u001b[1;31mTypeError\u001b[0m                                 Traceback (most recent call last)",
      "\u001b[1;32m<ipython-input-17-8980e1a2a7a9>\u001b[0m in \u001b[0;36m<module>\u001b[1;34m\u001b[0m\n\u001b[0;32m     26\u001b[0m \u001b[0mprint\u001b[0m\u001b[1;33m(\u001b[0m\u001b[0mabs\u001b[0m\u001b[1;33m(\u001b[0m\u001b[0ma\u001b[0m\u001b[1;33m)\u001b[0m\u001b[1;33m)\u001b[0m\u001b[1;33m\u001b[0m\u001b[1;33m\u001b[0m\u001b[0m\n\u001b[0;32m     27\u001b[0m \u001b[0mprint\u001b[0m\u001b[1;33m(\u001b[0m\u001b[0ma\u001b[0m \u001b[1;33m==\u001b[0m \u001b[0mb\u001b[0m\u001b[1;33m)\u001b[0m\u001b[1;33m\u001b[0m\u001b[1;33m\u001b[0m\u001b[0m\n\u001b[1;32m---> 28\u001b[1;33m \u001b[0mprint\u001b[0m\u001b[1;33m(\u001b[0m\u001b[0ma\u001b[0m \u001b[1;33m>=\u001b[0m \u001b[0mb\u001b[0m\u001b[1;33m)\u001b[0m\u001b[1;33m\u001b[0m\u001b[1;33m\u001b[0m\u001b[0m\n\u001b[0m",
      "\u001b[1;31mTypeError\u001b[0m: '>=' not supported between instances of 'Point' and 'Point'"
     ]
    }
   ],
   "source": [
    "from math import sqrt\n",
    "\n",
    "class Point():\n",
    "    def __init__(self, x, y):\n",
    "        self.x = x\n",
    "        self.y = y\n",
    "\n",
    "    def __abs__(self):\n",
    "        return sqrt(self.x ** 2 * self.y ** 2)\n",
    "\n",
    "    def __eq__(self, other):\n",
    "        if isinstance(other, Point):\n",
    "            return self.x == other.x and self.y == other.y\n",
    "        else:\n",
    "            return False\n",
    "\n",
    "    def __lt__(self, other):\n",
    "        if type(self) == type(other):\n",
    "            return abs(self) < abs(other)\n",
    "        else:\n",
    "            return NotImplemented\n",
    "\n",
    "\n",
    "a = Point(10, 20)\n",
    "b = Point(10, 2340)\n",
    "print(abs(a))\n",
    "print(a == b)\n",
    "print(a >= b) #когда пробуем сравнить так, то получаем ошибку, т.к. метод \"больше или равно\" у нас не определён"
   ]
  },
  {
   "cell_type": "markdown",
   "metadata": {},
   "source": [
    "<b>Добавим другие виды сравнений через monkey patching</b>"
   ]
  },
  {
   "cell_type": "code",
   "execution_count": 22,
   "metadata": {},
   "outputs": [
    {
     "name": "stdout",
     "output_type": "stream",
     "text": [
      "3.605551275463989\n",
      "False\n",
      "True\n",
      "False\n",
      "True\n",
      "False\n",
      "False\n"
     ]
    }
   ],
   "source": [
    "#обычно такие вещи как complete_ordering не делают, делаем только для примера\n",
    "def complete_ordering(cls):\n",
    "    if \"__eq__\" in dir(cls) and \"__lt__\" in dir(cls):\n",
    "        cls.__le__ = lambda self, other: self < other or self == other\n",
    "        cls.__gt__ = lambda self, other: not (\n",
    "            self < other) and not (self == other)\n",
    "        cls.__ge__ = lambda self, other: not (self < other)\n",
    "    return cls\n",
    "\n",
    "\n",
    "#чтобы работатло в классе нужно определить __eq__ и __lt__\n",
    "@complete_ordering\n",
    "class Point():\n",
    "    def __init__(self, x, y):\n",
    "        self.x = x\n",
    "        self.y = y\n",
    "\n",
    "    def __abs__(self):\n",
    "        return sqrt(self.x ** 2 + self.y ** 2)\n",
    "\n",
    "    def __repr__(self):\n",
    "        return \"Point({0}, {1})\".format(self.x, self.y)\n",
    "\n",
    "    def __eq__(self, other):\n",
    "        if isinstance(other, Point):\n",
    "            return self.x == other.x and self.y == other.y\n",
    "        else:\n",
    "            return False\n",
    "\n",
    "    def __lt__(self, other):\n",
    "        if type(self) == type(other):\n",
    "            return abs(self) < abs(other)\n",
    "        else:\n",
    "            return NotImplemented\n",
    "\n",
    "\n",
    "p1, p2, p3 = Point(2, 3), Point(2, 3), Point(0, 0)\n",
    "print(abs(p1))\n",
    "print(p1 is p2)\n",
    "print(p1 == p2)\n",
    "print(p1 < p2)\n",
    "print(p1 >= p2)\n",
    "print(p1 != p2)\n",
    "print(p1 <= p3) #теперь такие сравнения не ломаются"
   ]
  },
  {
   "cell_type": "markdown",
   "metadata": {},
   "source": [
    "### В библиотеке Python уже есть функционал, кот. делает тоже самое, что и def complete_ordering"
   ]
  },
  {
   "cell_type": "code",
   "execution_count": 24,
   "metadata": {},
   "outputs": [
    {
     "name": "stdout",
     "output_type": "stream",
     "text": [
      "200.0\n",
      "False\n",
      "True\n",
      "True\n"
     ]
    }
   ],
   "source": [
    "from math import sqrt\n",
    "from functools import total_ordering\n",
    "\n",
    "#чтобы работатло в классе нужно отпределить один из операторов: < > <= >=. Мы определили __lt__ (less than)\n",
    "@total_ordering\n",
    "class Point():\n",
    "    def __init__(self, x, y):\n",
    "        self.x = x\n",
    "        self.y = y\n",
    "\n",
    "    def __abs__(self):\n",
    "        return sqrt(self.x ** 2 * self.y ** 2)\n",
    "\n",
    "    def __lt__(self, other):\n",
    "        if type(self) == type(other):\n",
    "            return abs(self) < abs(other)\n",
    "        else:\n",
    "            return NotImplemented\n",
    "\n",
    "\n",
    "a = Point(10, 20)\n",
    "b = Point(10, 2340)\n",
    "print(abs(a))\n",
    "print(a == b)\n",
    "print(a < b)\n",
    "print(a <= b)"
   ]
  },
  {
   "cell_type": "code",
   "execution_count": null,
   "metadata": {},
   "outputs": [],
   "source": []
  }
 ],
 "metadata": {
  "kernelspec": {
   "display_name": "Python 3",
   "language": "python",
   "name": "python3"
  },
  "language_info": {
   "codemirror_mode": {
    "name": "ipython",
    "version": 3
   },
   "file_extension": ".py",
   "mimetype": "text/x-python",
   "name": "python",
   "nbconvert_exporter": "python",
   "pygments_lexer": "ipython3",
   "version": "3.7.6"
  }
 },
 "nbformat": 4,
 "nbformat_minor": 4
}
