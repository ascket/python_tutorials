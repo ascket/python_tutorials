{
 "cells": [
  {
   "cell_type": "code",
   "execution_count": 2,
   "metadata": {},
   "outputs": [
    {
     "name": "stdout",
     "output_type": "stream",
     "text": [
      "Run time 0.000018 sec\n",
      "55\n"
     ]
    }
   ],
   "source": [
    "def timed(fn):\n",
    "    from time import perf_counter\n",
    "\n",
    "    def inner(*args, **kwargs):\n",
    "        start = perf_counter()\n",
    "        result = fn(*args, **kwargs)\n",
    "        end = perf_counter()\n",
    "        elapsed = end - start\n",
    "        print(\"Run time {:.6f} sec\".format(elapsed))\n",
    "        return result\n",
    "    return inner\n",
    "\n",
    "\n",
    "def fibo(n):\n",
    "    return 1 if n < 3 else fibo(n - 1) + fibo(n - 2)\n",
    "\n",
    "\n",
    "def fibo_n(n):\n",
    "    return fibo(n)\n",
    "\n",
    "\n",
    "fibo_n = timed(fibo_n)\n",
    "print(fibo_n(10))"
   ]
  },
  {
   "cell_type": "markdown",
   "metadata": {},
   "source": [
    "### В декоратор мы (пока) не можем передавать аргументы. Например, создадим такую функцию"
   ]
  },
  {
   "cell_type": "code",
   "execution_count": 6,
   "metadata": {},
   "outputs": [
    {
     "name": "stdout",
     "output_type": "stream",
     "text": [
      "Function fibo2_n needs 0.000020 sec to run on average\n",
      "55\n"
     ]
    }
   ],
   "source": [
    "def timed2(fn):\n",
    "    from functools import wraps\n",
    "    from time import perf_counter\n",
    "\n",
    "    def inner(*args, **kwargs):\n",
    "        total = 0\n",
    "        for x in range(10):\n",
    "            start = perf_counter()\n",
    "            result = fn(*args, **kwargs)\n",
    "            end = perf_counter()\n",
    "            elapsed = end - start\n",
    "            total += elapsed\n",
    "        avg_total = total / 10\n",
    "        print(\"Function {0} needs {1:.6f} sec to run on average\".format(\n",
    "            fn.__name__, avg_total))\n",
    "        return result\n",
    "    return inner\n",
    "\n",
    "\n",
    "def fibo2(n):\n",
    "    if n < 3:\n",
    "        return 1\n",
    "    else:\n",
    "        return fibo(n - 1) + fibo(n - 2)\n",
    "\n",
    "\n",
    "@timed2\n",
    "def fibo2_n(n):\n",
    "    return fibo2(n)\n",
    "\n",
    "\n",
    "print(fibo2_n(10))\n",
    "\n",
    "#в range() мы не можем передать другой аргумент"
   ]
  },
  {
   "cell_type": "markdown",
   "metadata": {},
   "source": [
    "### Передадим n таким образом"
   ]
  },
  {
   "cell_type": "code",
   "execution_count": 11,
   "metadata": {},
   "outputs": [
    {
     "name": "stdout",
     "output_type": "stream",
     "text": [
      "Function fibo_n needs 0.090802 sec to run on average (5 reps)\n",
      "317811\n"
     ]
    }
   ],
   "source": [
    "def timed(fn, reps):\n",
    "    from functools import wraps\n",
    "    from time import perf_counter\n",
    "\n",
    "    def inner(*args, **kwargs):\n",
    "        total = 0\n",
    "        for x in range(reps):\n",
    "            start = perf_counter()\n",
    "            result = fn(*args, **kwargs)\n",
    "            end = perf_counter()\n",
    "            elapsed = end - start\n",
    "            total += elapsed\n",
    "        avg_total = total / reps\n",
    "        print(\"Function {0} needs {1:.6f} sec to run on average ({2} reps)\".format(\n",
    "            fn.__name__, avg_total, reps))\n",
    "        return result\n",
    "    return inner\n",
    "\n",
    "\n",
    "def fibo(n):\n",
    "    if n < 3:\n",
    "        return 1\n",
    "    else:\n",
    "        return fibo(n - 1) + fibo(n - 2)\n",
    "\n",
    "\n",
    "def fibo_n(n):\n",
    "    return fibo(n)\n",
    "\n",
    "fibo_n = timed(fibo_n, 5) # работает с такой записью, но не работает с такой @timed(5)\n",
    "print(fibo_n(28))"
   ]
  },
  {
   "cell_type": "markdown",
   "metadata": {},
   "source": [
    "### Но лучше использовать т.н. decorator factory"
   ]
  },
  {
   "cell_type": "code",
   "execution_count": 1,
   "metadata": {},
   "outputs": [
    {
     "name": "stdout",
     "output_type": "stream",
     "text": [
      "Function fibo_n needs 0.091640 sec to run on average (5 reps)\n",
      "317811\n"
     ]
    }
   ],
   "source": [
    "# Функция называется dec_factory для примера, чтобы было наглядно, где decorator factory\n",
    "# Конечно, лучше называть, например, timed (тогда соответственно название внутренней\n",
    "# функции timed нужно поменять на напр. dec)\n",
    "\n",
    "def dec_factory(reps):\n",
    "    def timed(fn):\n",
    "        from functools import wraps\n",
    "        from time import perf_counter\n",
    "\n",
    "        def inner(*args, **kwargs):\n",
    "            total = 0\n",
    "            for x in range(reps):\n",
    "                start = perf_counter()\n",
    "                result = fn(*args, **kwargs)\n",
    "                end = perf_counter()\n",
    "                elapsed = end - start\n",
    "                total += elapsed\n",
    "            avg_total = total / reps\n",
    "            print(\"Function {0} needs {1:.6f} sec to run on average ({2} reps)\".format(\n",
    "                fn.__name__, avg_total, reps))\n",
    "            return result\n",
    "        return inner\n",
    "    return timed\n",
    "\n",
    "\n",
    "def fibo(n):\n",
    "    if n < 3:\n",
    "        return 1\n",
    "    else:\n",
    "        return fibo(n - 1) + fibo(n - 2)\n",
    "\n",
    "\n",
    "@dec_factory(5)\n",
    "def fibo_n(n):\n",
    "    return fibo(n)\n",
    "\n",
    "print(fibo_n(28))\n",
    "# или так, без @dec_factory(5):\n",
    "# fibo_n = dec_factory(5)(fibo_n)\n",
    "# print(fibo_n(28))"
   ]
  },
  {
   "cell_type": "markdown",
   "metadata": {},
   "source": [
    "<b>Или так без @dec_factory(5)</b>"
   ]
  },
  {
   "cell_type": "code",
   "execution_count": 3,
   "metadata": {},
   "outputs": [
    {
     "name": "stdout",
     "output_type": "stream",
     "text": [
      "Function fibo_n needs 0.090565 sec to run on average (5 reps)\n",
      "317811\n"
     ]
    }
   ],
   "source": [
    "obj = dec_factory(5)\n",
    "def fibo_n(n):\n",
    "    return fibo(n)\n",
    "fibo_n = obj(fibo_n)\n",
    "print(fibo_n(28))"
   ]
  }
 ],
 "metadata": {
  "kernelspec": {
   "display_name": "Python 3",
   "language": "python",
   "name": "python3"
  },
  "language_info": {
   "codemirror_mode": {
    "name": "ipython",
    "version": 3
   },
   "file_extension": ".py",
   "mimetype": "text/x-python",
   "name": "python",
   "nbconvert_exporter": "python",
   "pygments_lexer": "ipython3",
   "version": "3.7.6"
  }
 },
 "nbformat": 4,
 "nbformat_minor": 4
}
