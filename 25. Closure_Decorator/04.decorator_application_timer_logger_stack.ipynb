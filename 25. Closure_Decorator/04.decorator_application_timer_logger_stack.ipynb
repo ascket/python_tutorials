{
 "cells": [
  {
   "cell_type": "code",
   "execution_count": 1,
   "metadata": {},
   "outputs": [],
   "source": [
    "def timed(fn):\n",
    "    from time import perf_counter\n",
    "    from functools import wraps\n",
    "\n",
    "    @wraps(fn)\n",
    "    def inner(*args, **kwargs):\n",
    "        start = perf_counter()\n",
    "        result = fn(*args, **kwargs)\n",
    "        end = perf_counter()\n",
    "        elapsed = end - start\n",
    "\n",
    "        args_ = [str(a) for a in args]\n",
    "        kwargs_ = [\"{0}={1}\".format(k, v) for (k, v) in kwargs.items()]\n",
    "        all_args = args_ + kwargs_\n",
    "        args_str = \",\".join(all_args)\n",
    "\n",
    "        print(\"{0}({1}) took {2:.6f}s to run\".format(\n",
    "            fn.__name__, args_str, elapsed))\n",
    "\n",
    "        return result\n",
    "    return inner"
   ]
  },
  {
   "cell_type": "markdown",
   "metadata": {},
   "source": [
    "## 1. Считаем Фибоначчи рекурсией"
   ]
  },
  {
   "cell_type": "code",
   "execution_count": 4,
   "metadata": {},
   "outputs": [
    {
     "name": "stdout",
     "output_type": "stream",
     "text": [
      "55\n"
     ]
    }
   ],
   "source": [
    "#если обернём так, то увидим много вызовов функции, поэтому лучше сделать ещё одну функцию и обернуть её\n",
    "\n",
    "#@timed\n",
    "def fibo_recursion(n):\n",
    "    \"\"\"Fibonacci recursion\"\"\"\n",
    "    return 1 if n <= 2 else fibo_recursion(n - 1) + fibo_recursion(n - 2)\n",
    "\n",
    "\n",
    "print(fibo_recursion(10))"
   ]
  },
  {
   "cell_type": "code",
   "execution_count": 7,
   "metadata": {},
   "outputs": [
    {
     "name": "stdout",
     "output_type": "stream",
     "text": [
      "fib_recursive(20) took 0.003351s to run\n",
      "6765\n",
      "fib_recursive(25) took 0.023620s to run\n",
      "75025\n",
      "fib_recursive(37) took 7.000843s to run\n",
      "24157817\n"
     ]
    }
   ],
   "source": [
    "@timed\n",
    "def fib_recursive(n):\n",
    "    return fibo_recursion(n)\n",
    "\n",
    "print(fib_recursive(20))\n",
    "print(fib_recursive(25))\n",
    "print(fib_recursive(37))"
   ]
  },
  {
   "cell_type": "markdown",
   "metadata": {},
   "source": [
    "<b>Вывод: рекурсия считает долго</b>"
   ]
  },
  {
   "cell_type": "markdown",
   "metadata": {},
   "source": [
    "## 2. Считаем Фибоначчи через loop"
   ]
  },
  {
   "cell_type": "code",
   "execution_count": 9,
   "metadata": {},
   "outputs": [
    {
     "name": "stdout",
     "output_type": "stream",
     "text": [
      "fibo_loop(10) took 0.000005s to run\n",
      "55\n",
      "fibo_loop(36) took 0.000005s to run\n",
      "14930352\n"
     ]
    }
   ],
   "source": [
    "@timed\n",
    "def fibo_loop(n):\n",
    "    fibo1 = 1\n",
    "    fibo2 = 1\n",
    "    for x in range(3, n + 1):\n",
    "        fibo1, fibo2 = fibo2, fibo2 + fibo1\n",
    "    return fibo2\n",
    "\n",
    "print(fibo_loop(10))\n",
    "print(fibo_loop(36))"
   ]
  },
  {
   "cell_type": "markdown",
   "metadata": {},
   "source": [
    "<b>Вывод: loop считает быстро</b>"
   ]
  },
  {
   "cell_type": "markdown",
   "metadata": {},
   "source": [
    "## 3. Считаем Фибоначчи через reduce"
   ]
  },
  {
   "cell_type": "code",
   "execution_count": 14,
   "metadata": {},
   "outputs": [
    {
     "name": "stdout",
     "output_type": "stream",
     "text": [
      "fib_reduce(36) took 0.000018s to run\n",
      "14930352\n"
     ]
    }
   ],
   "source": [
    "@timed\n",
    "def fib_reduce(n):\n",
    "    from functools import reduce\n",
    "    initial = (1, 0)\n",
    "    fib_n = reduce(lambda prev, n: (prev[1] + prev[0], prev[0]), range(n-1), initial)\n",
    "    return fib_n[0]\n",
    "\n",
    "print(fib_reduce(36))"
   ]
  },
  {
   "cell_type": "markdown",
   "metadata": {},
   "source": [
    "<b>Вывод: reduce тоже считает быстро, но медленнее, чем loop</b>"
   ]
  },
  {
   "cell_type": "markdown",
   "metadata": {},
   "source": [
    "### Измерим среднее время для нескольких итераций"
   ]
  },
  {
   "cell_type": "code",
   "execution_count": 9,
   "metadata": {},
   "outputs": [],
   "source": [
    "def timed2(fn):\n",
    "    from time import perf_counter\n",
    "    from functools import wraps\n",
    "\n",
    "    @wraps(fn)\n",
    "    def inner(*args, **kwargs):\n",
    "        elapsed_total = 0\n",
    "        elapsed_count = 0\n",
    "        for x in range(10):\n",
    "            print(\"Running iteration {}...\".format(x))\n",
    "            start = perf_counter()\n",
    "            result = fn(*args, **kwargs)\n",
    "            end = perf_counter()\n",
    "            elapsed = end - start\n",
    "            elapsed_total += elapsed\n",
    "            elapsed_count += 1\n",
    "\n",
    "        args_ = [str(a) for a in args]\n",
    "        kwargs_ = [\"{0}={1}\".format(k, v) for (k, v) in kwargs.items()]\n",
    "        all_args = args_ + kwargs_\n",
    "        args_str = \",\".join(all_args)\n",
    "        elapsed_avg = elapsed_total / elapsed_count\n",
    "\n",
    "        print(\"{0}({1}) took {2:.6f}s to run\".format(\n",
    "            fn.__name__, args_str, elapsed_avg))\n",
    "\n",
    "        return result\n",
    "    return inner"
   ]
  },
  {
   "cell_type": "code",
   "execution_count": 10,
   "metadata": {},
   "outputs": [
    {
     "name": "stdout",
     "output_type": "stream",
     "text": [
      "Running iteration 0...\n",
      "Running iteration 1...\n",
      "Running iteration 2...\n",
      "Running iteration 3...\n",
      "Running iteration 4...\n",
      "Running iteration 5...\n",
      "Running iteration 6...\n",
      "Running iteration 7...\n",
      "Running iteration 8...\n",
      "Running iteration 9...\n",
      "fibo_red2(10) took 0.000008s to run\n",
      "55\n"
     ]
    }
   ],
   "source": [
    "@timed2\n",
    "def fibo_red2(a):\n",
    "    from functools import reduce\n",
    "    initialiser = (1, 0)\n",
    "    result = reduce(lambda prev, n: (prev[1] + prev[0], prev[0]), range(a-1), initialiser)\n",
    "    return result[0]\n",
    "\n",
    "print(fibo_red2(10))\n",
    "\n",
    "#проблема здесь в том, что мы не можем задавать range для итерации не из функции.\n",
    "#Конечно, можно сделать так: def timed(fn, count)...  for x in range(count)...\n",
    "#а вызывать функцию так fibo_red2 = timed2(fibo_red2, 10)(10) , но это не гибко"
   ]
  },
  {
   "cell_type": "markdown",
   "metadata": {},
   "source": [
    "## 4. Несколько декораторов для функции"
   ]
  },
  {
   "cell_type": "code",
   "execution_count": 11,
   "metadata": {},
   "outputs": [],
   "source": [
    "def logged(fn):\n",
    "    from functools import wraps\n",
    "    from datetime import datetime, timezone\n",
    "\n",
    "    @wraps(fn)\n",
    "    def inner(*args, **kwargs):\n",
    "        run_dt = datetime.now(timezone.utc)\n",
    "        result = fn(*args, **kwargs)\n",
    "        print(\"{0}: called {1}\".format(run_dt, fn.__name__))\n",
    "        return result\n",
    "    return inner\n",
    "\n",
    "\n",
    "def timed(fn):\n",
    "    from functools import wraps\n",
    "    from time import perf_counter\n",
    "\n",
    "    @wraps(fn)\n",
    "    def inner(*args, **kwargs):\n",
    "        start = perf_counter()\n",
    "        result = fn(*args, **kwargs)\n",
    "        end = perf_counter()\n",
    "        print(\"{0} took {1:.6f} sec to run\".format(fn.__name__, end - start))\n",
    "        return result\n",
    "    return inner"
   ]
  },
  {
   "cell_type": "code",
   "execution_count": 30,
   "metadata": {},
   "outputs": [
    {
     "name": "stdout",
     "output_type": "stream",
     "text": [
      "fib took 0.000006 sec to run\n",
      "55\n",
      "factorial took 0.000016 sec to run\n",
      "2020-05-12 07:26:26.961681+00:00: called factorial\n",
      "720\n"
     ]
    }
   ],
   "source": [
    "@timed\n",
    "def fib(n):\n",
    "    fib1 = 1\n",
    "    fib2 = 1\n",
    "    for x in range(3, n + 1):\n",
    "        fib1, fib2 = fib2, fib1 + fib2\n",
    "    return fib2\n",
    "\n",
    "print(fib(10))\n",
    "\n",
    "\n",
    "@logged\n",
    "@timed\n",
    "def factorial(n):\n",
    "    from operator import mul\n",
    "    from functools import reduce\n",
    "    return reduce(mul, range(1, n + 1))\n",
    "\n",
    "\n",
    "print(factorial(6))\n",
    "#factorial = logged(timed(factorial)) - два декоратора на функции равнозначны такой записи, но если функция с\n",
    "#рекурсией, то проверяй её поведение"
   ]
  },
  {
   "cell_type": "code",
   "execution_count": 29,
   "metadata": {},
   "outputs": [
    {
     "name": "stdout",
     "output_type": "stream",
     "text": [
      "factorial took 0.000011 sec to run\n",
      "2020-05-12 07:26:21.774279+00:00: called factorial\n",
      "factorial took 0.000269 sec to run\n",
      "2020-05-12 07:26:21.774279+00:00: called factorial\n",
      "3628800\n"
     ]
    }
   ],
   "source": [
    "#Можем положить сколько угодно декораторов\n",
    "@logged\n",
    "@timed\n",
    "@logged\n",
    "@timed\n",
    "def factorial(n):\n",
    "    from operator import mul\n",
    "    from functools import reduce\n",
    "    return reduce(mul, range(1, n + 1))\n",
    "\n",
    "#factorial = logged(timed(logged(timed(factorial))))\n",
    "print(factorial(10))"
   ]
  }
 ],
 "metadata": {
  "kernelspec": {
   "display_name": "Python 3",
   "language": "python",
   "name": "python3"
  },
  "language_info": {
   "codemirror_mode": {
    "name": "ipython",
    "version": 3
   },
   "file_extension": ".py",
   "mimetype": "text/x-python",
   "name": "python",
   "nbconvert_exporter": "python",
   "pygments_lexer": "ipython3",
   "version": "3.7.6"
  }
 },
 "nbformat": 4,
 "nbformat_minor": 4
}
