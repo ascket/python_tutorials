{
 "cells": [
  {
   "cell_type": "markdown",
   "metadata": {},
   "source": [
    "<b>Memoization позволяет сделать кэш функции. Так функция работает намного быстрее</b>"
   ]
  },
  {
   "cell_type": "code",
   "execution_count": 2,
   "metadata": {},
   "outputs": [
    {
     "name": "stdout",
     "output_type": "stream",
     "text": [
      "Calculation fibonacci(10)\n",
      "Calculation fibonacci(9)\n",
      "Calculation fibonacci(8)\n",
      "Calculation fibonacci(7)\n",
      "Calculation fibonacci(6)\n",
      "Calculation fibonacci(5)\n",
      "Calculation fibonacci(4)\n",
      "Calculation fibonacci(3)\n",
      "Calculation fibonacci(2)\n",
      "Calculation fibonacci(1)\n",
      "Calculation fibonacci(2)\n",
      "Calculation fibonacci(3)\n",
      "Calculation fibonacci(2)\n",
      "Calculation fibonacci(1)\n",
      "Calculation fibonacci(4)\n",
      "Calculation fibonacci(3)\n",
      "Calculation fibonacci(2)\n",
      "Calculation fibonacci(1)\n",
      "Calculation fibonacci(2)\n",
      "Calculation fibonacci(5)\n",
      "Calculation fibonacci(4)\n",
      "Calculation fibonacci(3)\n",
      "Calculation fibonacci(2)\n",
      "Calculation fibonacci(1)\n",
      "Calculation fibonacci(2)\n",
      "Calculation fibonacci(3)\n",
      "Calculation fibonacci(2)\n",
      "Calculation fibonacci(1)\n",
      "Calculation fibonacci(6)\n",
      "Calculation fibonacci(5)\n",
      "Calculation fibonacci(4)\n",
      "Calculation fibonacci(3)\n",
      "Calculation fibonacci(2)\n",
      "Calculation fibonacci(1)\n",
      "Calculation fibonacci(2)\n",
      "Calculation fibonacci(3)\n",
      "Calculation fibonacci(2)\n",
      "Calculation fibonacci(1)\n",
      "Calculation fibonacci(4)\n",
      "Calculation fibonacci(3)\n",
      "Calculation fibonacci(2)\n",
      "Calculation fibonacci(1)\n",
      "Calculation fibonacci(2)\n",
      "Calculation fibonacci(7)\n",
      "Calculation fibonacci(6)\n",
      "Calculation fibonacci(5)\n",
      "Calculation fibonacci(4)\n",
      "Calculation fibonacci(3)\n",
      "Calculation fibonacci(2)\n",
      "Calculation fibonacci(1)\n",
      "Calculation fibonacci(2)\n",
      "Calculation fibonacci(3)\n",
      "Calculation fibonacci(2)\n",
      "Calculation fibonacci(1)\n",
      "Calculation fibonacci(4)\n",
      "Calculation fibonacci(3)\n",
      "Calculation fibonacci(2)\n",
      "Calculation fibonacci(1)\n",
      "Calculation fibonacci(2)\n",
      "Calculation fibonacci(5)\n",
      "Calculation fibonacci(4)\n",
      "Calculation fibonacci(3)\n",
      "Calculation fibonacci(2)\n",
      "Calculation fibonacci(1)\n",
      "Calculation fibonacci(2)\n",
      "Calculation fibonacci(3)\n",
      "Calculation fibonacci(2)\n",
      "Calculation fibonacci(1)\n",
      "Calculation fibonacci(8)\n",
      "Calculation fibonacci(7)\n",
      "Calculation fibonacci(6)\n",
      "Calculation fibonacci(5)\n",
      "Calculation fibonacci(4)\n",
      "Calculation fibonacci(3)\n",
      "Calculation fibonacci(2)\n",
      "Calculation fibonacci(1)\n",
      "Calculation fibonacci(2)\n",
      "Calculation fibonacci(3)\n",
      "Calculation fibonacci(2)\n",
      "Calculation fibonacci(1)\n",
      "Calculation fibonacci(4)\n",
      "Calculation fibonacci(3)\n",
      "Calculation fibonacci(2)\n",
      "Calculation fibonacci(1)\n",
      "Calculation fibonacci(2)\n",
      "Calculation fibonacci(5)\n",
      "Calculation fibonacci(4)\n",
      "Calculation fibonacci(3)\n",
      "Calculation fibonacci(2)\n",
      "Calculation fibonacci(1)\n",
      "Calculation fibonacci(2)\n",
      "Calculation fibonacci(3)\n",
      "Calculation fibonacci(2)\n",
      "Calculation fibonacci(1)\n",
      "Calculation fibonacci(6)\n",
      "Calculation fibonacci(5)\n",
      "Calculation fibonacci(4)\n",
      "Calculation fibonacci(3)\n",
      "Calculation fibonacci(2)\n",
      "Calculation fibonacci(1)\n",
      "Calculation fibonacci(2)\n",
      "Calculation fibonacci(3)\n",
      "Calculation fibonacci(2)\n",
      "Calculation fibonacci(1)\n",
      "Calculation fibonacci(4)\n",
      "Calculation fibonacci(3)\n",
      "Calculation fibonacci(2)\n",
      "Calculation fibonacci(1)\n",
      "Calculation fibonacci(2)\n",
      "55\n"
     ]
    }
   ],
   "source": [
    "def fibonacci(n):\n",
    "    print(\"Calculation fibonacci({0})\".format(n))\n",
    "    return 1 if n < 3 else fibonacci(n - 1) + fibonacci(n - 2)\n",
    "\n",
    "\n",
    "print(fibonacci(10))\n",
    "#так неэффективно, слишком много возвратов функции, это замедляет её работу"
   ]
  },
  {
   "cell_type": "markdown",
   "metadata": {},
   "source": [
    "#### Создадим класс с кешем"
   ]
  },
  {
   "cell_type": "code",
   "execution_count": 3,
   "metadata": {},
   "outputs": [
    {
     "name": "stdout",
     "output_type": "stream",
     "text": [
      "Calculation (10)\n",
      "Calculation (9)\n",
      "Calculation (8)\n",
      "Calculation (7)\n",
      "Calculation (6)\n",
      "Calculation (5)\n",
      "Calculation (4)\n",
      "Calculation (3)\n",
      "55\n"
     ]
    }
   ],
   "source": [
    "class MyFib(object):\n",
    "    def __init__(self):\n",
    "        self.cache = {1: 1, 2: 1}\n",
    "\n",
    "    def fibo(self, n):\n",
    "        if n not in self.cache:\n",
    "            print(\"Calculation ({})\".format(n))\n",
    "            self.cache[n] = self.fibo(n - 1) + self.fibo(n - 2)\n",
    "        return self.cache[n]\n",
    "\n",
    "\n",
    "a = MyFib()\n",
    "print(a.fibo(10))"
   ]
  },
  {
   "cell_type": "markdown",
   "metadata": {},
   "source": [
    "### Сделаем тоже самое через замыкание"
   ]
  },
  {
   "cell_type": "code",
   "execution_count": 4,
   "metadata": {},
   "outputs": [
    {
     "name": "stdout",
     "output_type": "stream",
     "text": [
      "Calculation (10)\n",
      "Calculation (9)\n",
      "Calculation (8)\n",
      "Calculation (7)\n",
      "Calculation (6)\n",
      "Calculation (5)\n",
      "Calculation (4)\n",
      "Calculation (3)\n",
      "55\n"
     ]
    }
   ],
   "source": [
    "def clousure_cache():\n",
    "    cache = {1: 1, 2: 1}\n",
    "\n",
    "    def inner(n):\n",
    "        if n not in cache:\n",
    "            print(\"Calculation ({0})\".format(n))\n",
    "            cache[n] = inner(n - 1) + inner(n - 2)\n",
    "        return cache[n]\n",
    "    return inner\n",
    "\n",
    "\n",
    "print(clousure_cache()(10))"
   ]
  },
  {
   "cell_type": "markdown",
   "metadata": {},
   "source": [
    "### Сделаем такое же кеширование с помощью декоратора"
   ]
  },
  {
   "cell_type": "code",
   "execution_count": 18,
   "metadata": {},
   "outputs": [
    {
     "name": "stdout",
     "output_type": "stream",
     "text": [
      "Calculating (10)\n",
      "Calculating (9)\n",
      "Calculating (8)\n",
      "Calculating (7)\n",
      "Calculating (6)\n",
      "Calculating (5)\n",
      "Calculating (4)\n",
      "Calculating (3)\n",
      "Calculating (2)\n",
      "Calculating (1)\n",
      "55\n"
     ]
    }
   ],
   "source": [
    "#работает для любой функции, которая принимает единичный параметр\n",
    "\n",
    "def memoize(fn):\n",
    "    cache = dict() #нам не нужно задавать начальные условия, если n нет в cache, то n туда добавиться\n",
    "\n",
    "    def inner(n):\n",
    "        if n not in cache:\n",
    "            cache[n] = fn(n)\n",
    "        return cache[n]\n",
    "    return inner\n",
    "\n",
    "\n",
    "@memoize\n",
    "def fibo_n(n):\n",
    "    print(\"Calculating ({})\".format(n))\n",
    "    return 1 if n < 3 else fibo_n(n - 1) + fibo_n(n - 2)\n",
    "\n",
    "\n",
    "print(fibo_n(10))"
   ]
  },
  {
   "cell_type": "code",
   "execution_count": 11,
   "metadata": {},
   "outputs": [
    {
     "name": "stdout",
     "output_type": "stream",
     "text": [
      "Calculating (6)!\n",
      "Calculating (5)!\n",
      "Calculating (4)!\n",
      "Calculating (3)!\n",
      "Calculating (2)!\n",
      "Calculating (1)!\n",
      "720\n"
     ]
    }
   ],
   "source": [
    "@memoize\n",
    "def fact(n):\n",
    "    print(\"Calculating ({})!\".format(n))\n",
    "    return 1 if n < 2 else n * fact(n-1)\n",
    "\n",
    "print(fact(6))"
   ]
  },
  {
   "cell_type": "code",
   "execution_count": 12,
   "metadata": {},
   "outputs": [
    {
     "name": "stdout",
     "output_type": "stream",
     "text": [
      "720\n",
      "Calculating (7)!\n",
      "5040\n"
     ]
    }
   ],
   "source": [
    "#если вызовем fact(6), функция не будет считать снова сначала, а возмём значение из кеша\n",
    "print(fact(6))\n",
    "print(fact(7))"
   ]
  },
  {
   "cell_type": "markdown",
   "metadata": {},
   "source": [
    "### Посмотрим скорость работы"
   ]
  },
  {
   "cell_type": "code",
   "execution_count": 17,
   "metadata": {},
   "outputs": [
    {
     "name": "stdout",
     "output_type": "stream",
     "text": [
      "14930352\n",
      "0.000981\n"
     ]
    }
   ],
   "source": [
    "from time import perf_counter\n",
    "\n",
    "start = perf_counter()\n",
    "\n",
    "print(fibo_n(36))\n",
    "print(\"{:.6f}\".format(perf_counter() - start))"
   ]
  },
  {
   "cell_type": "markdown",
   "metadata": {},
   "source": [
    "### Для кеширования можем использовать встроенный модуль lru_cache пакета functools"
   ]
  },
  {
   "cell_type": "code",
   "execution_count": 2,
   "metadata": {},
   "outputs": [
    {
     "name": "stdout",
     "output_type": "stream",
     "text": [
      "Calculation (8)\n",
      "Calculation (7)\n",
      "Calculation (6)\n",
      "Calculation (5)\n",
      "Calculation (4)\n",
      "Calculation (3)\n",
      "Calculation (2)\n",
      "Calculation (1)\n",
      "21\n"
     ]
    }
   ],
   "source": [
    "from functools import lru_cache\n",
    "\n",
    "\n",
    "@lru_cache(maxsize = 8)\n",
    "def fibo(n):\n",
    "    print(\"Calculation ({})\".format(n))\n",
    "    return 1 if n < 3 else fibo(n - 1) + fibo(n - 2)\n",
    "\n",
    "\n",
    "print(fibo(8))"
   ]
  },
  {
   "cell_type": "markdown",
   "metadata": {},
   "source": [
    "У lru_cache есть аргумент maxsize (максимальный размер кеша). По умолчанию maxsize = 128,\n",
    "но можем поставить maxsize = None для теоретически безразмерного кеша. Хорошая практика\n",
    "задавать maxsize кратный 2. Если задан размер кеша (maxsize), то кеш всегда равен этому размеру,\n",
    "т.е. высчитывается функция, но в кеше остаётся только то кол-во результатов, прописанных в maxsize,\n",
    "остальные вытесняются."
   ]
  }
 ],
 "metadata": {
  "kernelspec": {
   "display_name": "Python 3",
   "language": "python",
   "name": "python3"
  },
  "language_info": {
   "codemirror_mode": {
    "name": "ipython",
    "version": 3
   },
   "file_extension": ".py",
   "mimetype": "text/x-python",
   "name": "python",
   "nbconvert_exporter": "python",
   "pygments_lexer": "ipython3",
   "version": "3.7.6"
  }
 },
 "nbformat": 4,
 "nbformat_minor": 4
}
